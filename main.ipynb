{
  "cells": [
    {
      "cell_type": "markdown",
      "metadata": {
        "id": "66jrdjhdCo2t"
      },
      "source": [
        "# Environment Setup\n",
        "Install all the necessary packages required for running the article retrieval system."
      ]
    },
    {
      "cell_type": "code",
      "execution_count": 2,
      "metadata": {
        "colab": {
          "base_uri": "https://localhost:8080/"
        },
        "id": "ZqMeWyNkNF75",
        "outputId": "a12c7433-b8e8-4b31-d2f5-ca890e4d46f5"
      },
      "outputs": [
        {
          "name": "stdout",
          "output_type": "stream",
          "text": [
            "Collecting chromadb\n",
            "  Downloading chromadb-0.4.24-py3-none-any.whl (525 kB)\n",
            "\u001b[2K     \u001b[90m━━━━━━━━━━━━━━━━━━━━━━━━━━━━━━━━━━━━━━━━\u001b[0m \u001b[32m525.5/525.5 kB\u001b[0m \u001b[31m6.3 MB/s\u001b[0m eta \u001b[36m0:00:00\u001b[0m\n",
            "\u001b[?25hRequirement already satisfied: pandas in /usr/local/lib/python3.10/dist-packages (2.0.3)\n",
            "Requirement already satisfied: numpy in /usr/local/lib/python3.10/dist-packages (1.25.2)\n",
            "Collecting langchain\n",
            "  Downloading langchain-0.1.16-py3-none-any.whl (817 kB)\n",
            "\u001b[2K     \u001b[90m━━━━━━━━━━━━━━━━━━━━━━━━━━━━━━━━━━━━━━━━\u001b[0m \u001b[32m817.7/817.7 kB\u001b[0m \u001b[31m11.3 MB/s\u001b[0m eta \u001b[36m0:00:00\u001b[0m\n",
            "\u001b[?25hCollecting openai\n",
            "  Downloading openai-1.23.2-py3-none-any.whl (311 kB)\n",
            "\u001b[2K     \u001b[90m━━━━━━━━━━━━━━━━━━━━━━━━━━━━━━━━━━━━━━━━\u001b[0m \u001b[32m311.2/311.2 kB\u001b[0m \u001b[31m10.6 MB/s\u001b[0m eta \u001b[36m0:00:00\u001b[0m\n",
            "\u001b[?25hRequirement already satisfied: matplotlib in /usr/local/lib/python3.10/dist-packages (3.7.1)\n",
            "Collecting python-dotenv\n",
            "  Downloading python_dotenv-1.0.1-py3-none-any.whl (19 kB)\n",
            "Collecting tiktoken\n",
            "  Downloading tiktoken-0.6.0-cp310-cp310-manylinux_2_17_x86_64.manylinux2014_x86_64.whl (1.8 MB)\n",
            "\u001b[2K     \u001b[90m━━━━━━━━━━━━━━━━━━━━━━━━━━━━━━━━━━━━━━━━\u001b[0m \u001b[32m1.8/1.8 MB\u001b[0m \u001b[31m15.4 MB/s\u001b[0m eta \u001b[36m0:00:00\u001b[0m\n",
            "\u001b[?25hCollecting lark\n",
            "  Downloading lark-1.1.9-py3-none-any.whl (111 kB)\n",
            "\u001b[2K     \u001b[90m━━━━━━━━━━━━━━━━━━━━━━━━━━━━━━━━━━━━━━━━\u001b[0m \u001b[32m111.7/111.7 kB\u001b[0m \u001b[31m11.2 MB/s\u001b[0m eta \u001b[36m0:00:00\u001b[0m\n",
            "\u001b[?25hCollecting langchain-openai\n",
            "  Downloading langchain_openai-0.1.3-py3-none-any.whl (33 kB)\n",
            "Requirement already satisfied: build>=1.0.3 in /usr/local/lib/python3.10/dist-packages (from chromadb) (1.2.1)\n",
            "Requirement already satisfied: requests>=2.28 in /usr/local/lib/python3.10/dist-packages (from chromadb) (2.31.0)\n",
            "Requirement already satisfied: pydantic>=1.9 in /usr/local/lib/python3.10/dist-packages (from chromadb) (2.7.0)\n",
            "Collecting chroma-hnswlib==0.7.3 (from chromadb)\n",
            "  Downloading chroma_hnswlib-0.7.3-cp310-cp310-manylinux_2_17_x86_64.manylinux2014_x86_64.whl (2.4 MB)\n",
            "\u001b[2K     \u001b[90m━━━━━━━━━━━━━━━━━━━━━━━━━━━━━━━━━━━━━━━━\u001b[0m \u001b[32m2.4/2.4 MB\u001b[0m \u001b[31m20.7 MB/s\u001b[0m eta \u001b[36m0:00:00\u001b[0m\n",
            "\u001b[?25hCollecting fastapi>=0.95.2 (from chromadb)\n",
            "  Downloading fastapi-0.110.2-py3-none-any.whl (91 kB)\n",
            "\u001b[2K     \u001b[90m━━━━━━━━━━━━━━━━━━━━━━━━━━━━━━━━━━━━━━━━\u001b[0m \u001b[32m91.9/91.9 kB\u001b[0m \u001b[31m9.4 MB/s\u001b[0m eta \u001b[36m0:00:00\u001b[0m\n",
            "\u001b[?25hCollecting uvicorn[standard]>=0.18.3 (from chromadb)\n",
            "  Downloading uvicorn-0.29.0-py3-none-any.whl (60 kB)\n",
            "\u001b[2K     \u001b[90m━━━━━━━━━━━━━━━━━━━━━━━━━━━━━━━━━━━━━━━━\u001b[0m \u001b[32m60.8/60.8 kB\u001b[0m \u001b[31m6.8 MB/s\u001b[0m eta \u001b[36m0:00:00\u001b[0m\n",
            "\u001b[?25hCollecting posthog>=2.4.0 (from chromadb)\n",
            "  Downloading posthog-3.5.0-py2.py3-none-any.whl (41 kB)\n",
            "\u001b[2K     \u001b[90m━━━━━━━━━━━━━━━━━━━━━━━━━━━━━━━━━━━━━━━━\u001b[0m \u001b[32m41.3/41.3 kB\u001b[0m \u001b[31m4.4 MB/s\u001b[0m eta \u001b[36m0:00:00\u001b[0m\n",
            "\u001b[?25hRequirement already satisfied: typing-extensions>=4.5.0 in /usr/local/lib/python3.10/dist-packages (from chromadb) (4.11.0)\n",
            "Collecting pulsar-client>=3.1.0 (from chromadb)\n",
            "  Downloading pulsar_client-3.5.0-cp310-cp310-manylinux_2_17_x86_64.manylinux2014_x86_64.whl (5.4 MB)\n",
            "\u001b[2K     \u001b[90m━━━━━━━━━━━━━━━━━━━━━━━━━━━━━━━━━━━━━━━━\u001b[0m \u001b[32m5.4/5.4 MB\u001b[0m \u001b[31m30.0 MB/s\u001b[0m eta \u001b[36m0:00:00\u001b[0m\n",
            "\u001b[?25hCollecting onnxruntime>=1.14.1 (from chromadb)\n",
            "  Downloading onnxruntime-1.17.3-cp310-cp310-manylinux_2_27_x86_64.manylinux_2_28_x86_64.whl (6.8 MB)\n",
            "\u001b[2K     \u001b[90m━━━━━━━━━━━━━━━━━━━━━━━━━━━━━━━━━━━━━━━━\u001b[0m \u001b[32m6.8/6.8 MB\u001b[0m \u001b[31m38.3 MB/s\u001b[0m eta \u001b[36m0:00:00\u001b[0m\n",
            "\u001b[?25hCollecting opentelemetry-api>=1.2.0 (from chromadb)\n",
            "  Downloading opentelemetry_api-1.24.0-py3-none-any.whl (60 kB)\n",
            "\u001b[2K     \u001b[90m━━━━━━━━━━━━━━━━━━━━━━━━━━━━━━━━━━━━━━━━\u001b[0m \u001b[32m60.1/60.1 kB\u001b[0m \u001b[31m7.3 MB/s\u001b[0m eta \u001b[36m0:00:00\u001b[0m\n",
            "\u001b[?25hCollecting opentelemetry-exporter-otlp-proto-grpc>=1.2.0 (from chromadb)\n",
            "  Downloading opentelemetry_exporter_otlp_proto_grpc-1.24.0-py3-none-any.whl (18 kB)\n",
            "Collecting opentelemetry-instrumentation-fastapi>=0.41b0 (from chromadb)\n",
            "  Downloading opentelemetry_instrumentation_fastapi-0.45b0-py3-none-any.whl (11 kB)\n",
            "Collecting opentelemetry-sdk>=1.2.0 (from chromadb)\n",
            "  Downloading opentelemetry_sdk-1.24.0-py3-none-any.whl (106 kB)\n",
            "\u001b[2K     \u001b[90m━━━━━━━━━━━━━━━━━━━━━━━━━━━━━━━━━━━━━━━━\u001b[0m \u001b[32m106.1/106.1 kB\u001b[0m \u001b[31m12.1 MB/s\u001b[0m eta \u001b[36m0:00:00\u001b[0m\n",
            "\u001b[?25hRequirement already satisfied: tokenizers>=0.13.2 in /usr/local/lib/python3.10/dist-packages (from chromadb) (0.19.1)\n",
            "Collecting pypika>=0.48.9 (from chromadb)\n",
            "  Downloading PyPika-0.48.9.tar.gz (67 kB)\n",
            "\u001b[2K     \u001b[90m━━━━━━━━━━━━━━━━━━━━━━━━━━━━━━━━━━━━━━━━\u001b[0m \u001b[32m67.3/67.3 kB\u001b[0m \u001b[31m7.5 MB/s\u001b[0m eta \u001b[36m0:00:00\u001b[0m\n",
            "\u001b[?25h  Installing build dependencies ... \u001b[?25l\u001b[?25hdone\n",
            "  Getting requirements to build wheel ... \u001b[?25l\u001b[?25hdone\n",
            "  Preparing metadata (pyproject.toml) ... \u001b[?25l\u001b[?25hdone\n",
            "Requirement already satisfied: tqdm>=4.65.0 in /usr/local/lib/python3.10/dist-packages (from chromadb) (4.66.2)\n",
            "Collecting overrides>=7.3.1 (from chromadb)\n",
            "  Downloading overrides-7.7.0-py3-none-any.whl (17 kB)\n",
            "Requirement already satisfied: importlib-resources in /usr/local/lib/python3.10/dist-packages (from chromadb) (6.4.0)\n",
            "Requirement already satisfied: grpcio>=1.58.0 in /usr/local/lib/python3.10/dist-packages (from chromadb) (1.62.2)\n",
            "Collecting bcrypt>=4.0.1 (from chromadb)\n",
            "  Downloading bcrypt-4.1.2-cp39-abi3-manylinux_2_28_x86_64.whl (698 kB)\n",
            "\u001b[2K     \u001b[90m━━━━━━━━━━━━━━━━━━━━━━━━━━━━━━━━━━━━━━━━\u001b[0m \u001b[32m698.9/698.9 kB\u001b[0m \u001b[31m35.4 MB/s\u001b[0m eta \u001b[36m0:00:00\u001b[0m\n",
            "\u001b[?25hRequirement already satisfied: typer>=0.9.0 in /usr/local/lib/python3.10/dist-packages (from chromadb) (0.9.4)\n",
            "Collecting kubernetes>=28.1.0 (from chromadb)\n",
            "  Downloading kubernetes-29.0.0-py2.py3-none-any.whl (1.6 MB)\n",
            "\u001b[2K     \u001b[90m━━━━━━━━━━━━━━━━━━━━━━━━━━━━━━━━━━━━━━━━\u001b[0m \u001b[32m1.6/1.6 MB\u001b[0m \u001b[31m49.6 MB/s\u001b[0m eta \u001b[36m0:00:00\u001b[0m\n",
            "\u001b[?25hRequirement already satisfied: tenacity>=8.2.3 in /usr/local/lib/python3.10/dist-packages (from chromadb) (8.2.3)\n",
            "Requirement already satisfied: PyYAML>=6.0.0 in /usr/local/lib/python3.10/dist-packages (from chromadb) (6.0.1)\n",
            "Collecting mmh3>=4.0.1 (from chromadb)\n",
            "  Downloading mmh3-4.1.0-cp310-cp310-manylinux_2_5_x86_64.manylinux1_x86_64.manylinux_2_17_x86_64.manylinux2014_x86_64.whl (67 kB)\n",
            "\u001b[2K     \u001b[90m━━━━━━━━━━━━━━━━━━━━━━━━━━━━━━━━━━━━━━━━\u001b[0m \u001b[32m67.6/67.6 kB\u001b[0m \u001b[31m8.9 MB/s\u001b[0m eta \u001b[36m0:00:00\u001b[0m\n",
            "\u001b[?25hCollecting orjson>=3.9.12 (from chromadb)\n",
            "  Downloading orjson-3.10.1-cp310-cp310-manylinux_2_17_x86_64.manylinux2014_x86_64.whl (141 kB)\n",
            "\u001b[2K     \u001b[90m━━━━━━━━━━━━━━━━━━━━━━━━━━━━━━━━━━━━━━━━\u001b[0m \u001b[32m141.1/141.1 kB\u001b[0m \u001b[31m13.9 MB/s\u001b[0m eta \u001b[36m0:00:00\u001b[0m\n",
            "\u001b[?25hRequirement already satisfied: python-dateutil>=2.8.2 in /usr/local/lib/python3.10/dist-packages (from pandas) (2.8.2)\n",
            "Requirement already satisfied: pytz>=2020.1 in /usr/local/lib/python3.10/dist-packages (from pandas) (2023.4)\n",
            "Requirement already satisfied: tzdata>=2022.1 in /usr/local/lib/python3.10/dist-packages (from pandas) (2024.1)\n",
            "Requirement already satisfied: SQLAlchemy<3,>=1.4 in /usr/local/lib/python3.10/dist-packages (from langchain) (2.0.29)\n",
            "Requirement already satisfied: aiohttp<4.0.0,>=3.8.3 in /usr/local/lib/python3.10/dist-packages (from langchain) (3.9.5)\n",
            "Requirement already satisfied: async-timeout<5.0.0,>=4.0.0 in /usr/local/lib/python3.10/dist-packages (from langchain) (4.0.3)\n",
            "Collecting dataclasses-json<0.7,>=0.5.7 (from langchain)\n",
            "  Downloading dataclasses_json-0.6.4-py3-none-any.whl (28 kB)\n",
            "Collecting jsonpatch<2.0,>=1.33 (from langchain)\n",
            "  Downloading jsonpatch-1.33-py2.py3-none-any.whl (12 kB)\n",
            "Collecting langchain-community<0.1,>=0.0.32 (from langchain)\n",
            "  Downloading langchain_community-0.0.34-py3-none-any.whl (1.9 MB)\n",
            "\u001b[2K     \u001b[90m━━━━━━━━━━━━━━━━━━━━━━━━━━━━━━━━━━━━━━━━\u001b[0m \u001b[32m1.9/1.9 MB\u001b[0m \u001b[31m41.4 MB/s\u001b[0m eta \u001b[36m0:00:00\u001b[0m\n",
            "\u001b[?25hCollecting langchain-core<0.2.0,>=0.1.42 (from langchain)\n",
            "  Downloading langchain_core-0.1.45-py3-none-any.whl (291 kB)\n",
            "\u001b[2K     \u001b[90m━━━━━━━━━━━━━━━━━━━━━━━━━━━━━━━━━━━━━━━━\u001b[0m \u001b[32m291.3/291.3 kB\u001b[0m \u001b[31m24.5 MB/s\u001b[0m eta \u001b[36m0:00:00\u001b[0m\n",
            "\u001b[?25hCollecting langchain-text-splitters<0.1,>=0.0.1 (from langchain)\n",
            "  Downloading langchain_text_splitters-0.0.1-py3-none-any.whl (21 kB)\n",
            "Collecting langsmith<0.2.0,>=0.1.17 (from langchain)\n",
            "  Downloading langsmith-0.1.49-py3-none-any.whl (115 kB)\n",
            "\u001b[2K     \u001b[90m━━━━━━━━━━━━━━━━━━━━━━━━━━━━━━━━━━━━━━━━\u001b[0m \u001b[32m115.2/115.2 kB\u001b[0m \u001b[31m11.1 MB/s\u001b[0m eta \u001b[36m0:00:00\u001b[0m\n",
            "\u001b[?25hRequirement already satisfied: anyio<5,>=3.5.0 in /usr/local/lib/python3.10/dist-packages (from openai) (3.7.1)\n",
            "Requirement already satisfied: distro<2,>=1.7.0 in /usr/lib/python3/dist-packages (from openai) (1.7.0)\n",
            "Collecting httpx<1,>=0.23.0 (from openai)\n",
            "  Downloading httpx-0.27.0-py3-none-any.whl (75 kB)\n",
            "\u001b[2K     \u001b[90m━━━━━━━━━━━━━━━━━━━━━━━━━━━━━━━━━━━━━━━━\u001b[0m \u001b[32m75.6/75.6 kB\u001b[0m \u001b[31m8.0 MB/s\u001b[0m eta \u001b[36m0:00:00\u001b[0m\n",
            "\u001b[?25hRequirement already satisfied: sniffio in /usr/local/lib/python3.10/dist-packages (from openai) (1.3.1)\n",
            "Requirement already satisfied: contourpy>=1.0.1 in /usr/local/lib/python3.10/dist-packages (from matplotlib) (1.2.1)\n",
            "Requirement already satisfied: cycler>=0.10 in /usr/local/lib/python3.10/dist-packages (from matplotlib) (0.12.1)\n",
            "Requirement already satisfied: fonttools>=4.22.0 in /usr/local/lib/python3.10/dist-packages (from matplotlib) (4.51.0)\n",
            "Requirement already satisfied: kiwisolver>=1.0.1 in /usr/local/lib/python3.10/dist-packages (from matplotlib) (1.4.5)\n",
            "Requirement already satisfied: packaging>=20.0 in /usr/local/lib/python3.10/dist-packages (from matplotlib) (24.0)\n",
            "Requirement already satisfied: pillow>=6.2.0 in /usr/local/lib/python3.10/dist-packages (from matplotlib) (9.4.0)\n",
            "Requirement already satisfied: pyparsing>=2.3.1 in /usr/local/lib/python3.10/dist-packages (from matplotlib) (3.1.2)\n",
            "Requirement already satisfied: regex>=2022.1.18 in /usr/local/lib/python3.10/dist-packages (from tiktoken) (2023.12.25)\n",
            "Requirement already satisfied: aiosignal>=1.1.2 in /usr/local/lib/python3.10/dist-packages (from aiohttp<4.0.0,>=3.8.3->langchain) (1.3.1)\n",
            "Requirement already satisfied: attrs>=17.3.0 in /usr/local/lib/python3.10/dist-packages (from aiohttp<4.0.0,>=3.8.3->langchain) (23.2.0)\n",
            "Requirement already satisfied: frozenlist>=1.1.1 in /usr/local/lib/python3.10/dist-packages (from aiohttp<4.0.0,>=3.8.3->langchain) (1.4.1)\n",
            "Requirement already satisfied: multidict<7.0,>=4.5 in /usr/local/lib/python3.10/dist-packages (from aiohttp<4.0.0,>=3.8.3->langchain) (6.0.5)\n",
            "Requirement already satisfied: yarl<2.0,>=1.0 in /usr/local/lib/python3.10/dist-packages (from aiohttp<4.0.0,>=3.8.3->langchain) (1.9.4)\n",
            "Requirement already satisfied: idna>=2.8 in /usr/local/lib/python3.10/dist-packages (from anyio<5,>=3.5.0->openai) (3.7)\n",
            "Requirement already satisfied: exceptiongroup in /usr/local/lib/python3.10/dist-packages (from anyio<5,>=3.5.0->openai) (1.2.1)\n",
            "Requirement already satisfied: pyproject_hooks in /usr/local/lib/python3.10/dist-packages (from build>=1.0.3->chromadb) (1.0.0)\n",
            "Requirement already satisfied: tomli>=1.1.0 in /usr/local/lib/python3.10/dist-packages (from build>=1.0.3->chromadb) (2.0.1)\n",
            "Collecting marshmallow<4.0.0,>=3.18.0 (from dataclasses-json<0.7,>=0.5.7->langchain)\n",
            "  Downloading marshmallow-3.21.1-py3-none-any.whl (49 kB)\n",
            "\u001b[2K     \u001b[90m━━━━━━━━━━━━━━━━━━━━━━━━━━━━━━━━━━━━━━━━\u001b[0m \u001b[32m49.4/49.4 kB\u001b[0m \u001b[31m5.4 MB/s\u001b[0m eta \u001b[36m0:00:00\u001b[0m\n",
            "\u001b[?25hCollecting typing-inspect<1,>=0.4.0 (from dataclasses-json<0.7,>=0.5.7->langchain)\n",
            "  Downloading typing_inspect-0.9.0-py3-none-any.whl (8.8 kB)\n",
            "Collecting starlette<0.38.0,>=0.37.2 (from fastapi>=0.95.2->chromadb)\n",
            "  Downloading starlette-0.37.2-py3-none-any.whl (71 kB)\n",
            "\u001b[2K     \u001b[90m━━━━━━━━━━━━━━━━━━━━━━━━━━━━━━━━━━━━━━━━\u001b[0m \u001b[32m71.9/71.9 kB\u001b[0m \u001b[31m7.8 MB/s\u001b[0m eta \u001b[36m0:00:00\u001b[0m\n",
            "\u001b[?25hRequirement already satisfied: certifi in /usr/local/lib/python3.10/dist-packages (from httpx<1,>=0.23.0->openai) (2024.2.2)\n",
            "Collecting httpcore==1.* (from httpx<1,>=0.23.0->openai)\n",
            "  Downloading httpcore-1.0.5-py3-none-any.whl (77 kB)\n",
            "\u001b[2K     \u001b[90m━━━━━━━━━━━━━━━━━━━━━━━━━━━━━━━━━━━━━━━━\u001b[0m \u001b[32m77.9/77.9 kB\u001b[0m \u001b[31m9.3 MB/s\u001b[0m eta \u001b[36m0:00:00\u001b[0m\n",
            "\u001b[?25hCollecting h11<0.15,>=0.13 (from httpcore==1.*->httpx<1,>=0.23.0->openai)\n",
            "  Downloading h11-0.14.0-py3-none-any.whl (58 kB)\n",
            "\u001b[2K     \u001b[90m━━━━━━━━━━━━━━━━━━━━━━━━━━━━━━━━━━━━━━━━\u001b[0m \u001b[32m58.3/58.3 kB\u001b[0m \u001b[31m6.4 MB/s\u001b[0m eta \u001b[36m0:00:00\u001b[0m\n",
            "\u001b[?25hCollecting jsonpointer>=1.9 (from jsonpatch<2.0,>=1.33->langchain)\n",
            "  Downloading jsonpointer-2.4-py2.py3-none-any.whl (7.8 kB)\n",
            "Requirement already satisfied: six>=1.9.0 in /usr/local/lib/python3.10/dist-packages (from kubernetes>=28.1.0->chromadb) (1.16.0)\n",
            "Requirement already satisfied: google-auth>=1.0.1 in /usr/local/lib/python3.10/dist-packages (from kubernetes>=28.1.0->chromadb) (2.27.0)\n",
            "Requirement already satisfied: websocket-client!=0.40.0,!=0.41.*,!=0.42.*,>=0.32.0 in /usr/local/lib/python3.10/dist-packages (from kubernetes>=28.1.0->chromadb) (1.7.0)\n",
            "Requirement already satisfied: requests-oauthlib in /usr/local/lib/python3.10/dist-packages (from kubernetes>=28.1.0->chromadb) (1.3.1)\n",
            "Requirement already satisfied: oauthlib>=3.2.2 in /usr/local/lib/python3.10/dist-packages (from kubernetes>=28.1.0->chromadb) (3.2.2)\n",
            "Requirement already satisfied: urllib3>=1.24.2 in /usr/local/lib/python3.10/dist-packages (from kubernetes>=28.1.0->chromadb) (2.0.7)\n",
            "Collecting packaging>=20.0 (from matplotlib)\n",
            "  Downloading packaging-23.2-py3-none-any.whl (53 kB)\n",
            "\u001b[2K     \u001b[90m━━━━━━━━━━━━━━━━━━━━━━━━━━━━━━━━━━━━━━━━\u001b[0m \u001b[32m53.0/53.0 kB\u001b[0m \u001b[31m5.7 MB/s\u001b[0m eta \u001b[36m0:00:00\u001b[0m\n",
            "\u001b[?25hCollecting coloredlogs (from onnxruntime>=1.14.1->chromadb)\n",
            "  Downloading coloredlogs-15.0.1-py2.py3-none-any.whl (46 kB)\n",
            "\u001b[2K     \u001b[90m━━━━━━━━━━━━━━━━━━━━━━━━━━━━━━━━━━━━━━━━\u001b[0m \u001b[32m46.0/46.0 kB\u001b[0m \u001b[31m5.4 MB/s\u001b[0m eta \u001b[36m0:00:00\u001b[0m\n",
            "\u001b[?25hRequirement already satisfied: flatbuffers in /usr/local/lib/python3.10/dist-packages (from onnxruntime>=1.14.1->chromadb) (24.3.25)\n",
            "Requirement already satisfied: protobuf in /usr/local/lib/python3.10/dist-packages (from onnxruntime>=1.14.1->chromadb) (3.20.3)\n",
            "Requirement already satisfied: sympy in /usr/local/lib/python3.10/dist-packages (from onnxruntime>=1.14.1->chromadb) (1.12)\n",
            "Collecting deprecated>=1.2.6 (from opentelemetry-api>=1.2.0->chromadb)\n",
            "  Downloading Deprecated-1.2.14-py2.py3-none-any.whl (9.6 kB)\n",
            "Collecting importlib-metadata<=7.0,>=6.0 (from opentelemetry-api>=1.2.0->chromadb)\n",
            "  Downloading importlib_metadata-7.0.0-py3-none-any.whl (23 kB)\n",
            "Requirement already satisfied: googleapis-common-protos~=1.52 in /usr/local/lib/python3.10/dist-packages (from opentelemetry-exporter-otlp-proto-grpc>=1.2.0->chromadb) (1.63.0)\n",
            "Collecting opentelemetry-exporter-otlp-proto-common==1.24.0 (from opentelemetry-exporter-otlp-proto-grpc>=1.2.0->chromadb)\n",
            "  Downloading opentelemetry_exporter_otlp_proto_common-1.24.0-py3-none-any.whl (17 kB)\n",
            "Collecting opentelemetry-proto==1.24.0 (from opentelemetry-exporter-otlp-proto-grpc>=1.2.0->chromadb)\n",
            "  Downloading opentelemetry_proto-1.24.0-py3-none-any.whl (50 kB)\n",
            "\u001b[2K     \u001b[90m━━━━━━━━━━━━━━━━━━━━━━━━━━━━━━━━━━━━━━━━\u001b[0m \u001b[32m50.8/50.8 kB\u001b[0m \u001b[31m4.2 MB/s\u001b[0m eta \u001b[36m0:00:00\u001b[0m\n",
            "\u001b[?25hCollecting opentelemetry-instrumentation-asgi==0.45b0 (from opentelemetry-instrumentation-fastapi>=0.41b0->chromadb)\n",
            "  Downloading opentelemetry_instrumentation_asgi-0.45b0-py3-none-any.whl (14 kB)\n",
            "Collecting opentelemetry-instrumentation==0.45b0 (from opentelemetry-instrumentation-fastapi>=0.41b0->chromadb)\n",
            "  Downloading opentelemetry_instrumentation-0.45b0-py3-none-any.whl (28 kB)\n",
            "Collecting opentelemetry-semantic-conventions==0.45b0 (from opentelemetry-instrumentation-fastapi>=0.41b0->chromadb)\n",
            "  Downloading opentelemetry_semantic_conventions-0.45b0-py3-none-any.whl (36 kB)\n",
            "Collecting opentelemetry-util-http==0.45b0 (from opentelemetry-instrumentation-fastapi>=0.41b0->chromadb)\n",
            "  Downloading opentelemetry_util_http-0.45b0-py3-none-any.whl (6.9 kB)\n",
            "Requirement already satisfied: setuptools>=16.0 in /usr/local/lib/python3.10/dist-packages (from opentelemetry-instrumentation==0.45b0->opentelemetry-instrumentation-fastapi>=0.41b0->chromadb) (67.7.2)\n",
            "Requirement already satisfied: wrapt<2.0.0,>=1.0.0 in /usr/local/lib/python3.10/dist-packages (from opentelemetry-instrumentation==0.45b0->opentelemetry-instrumentation-fastapi>=0.41b0->chromadb) (1.14.1)\n",
            "Collecting asgiref~=3.0 (from opentelemetry-instrumentation-asgi==0.45b0->opentelemetry-instrumentation-fastapi>=0.41b0->chromadb)\n",
            "  Downloading asgiref-3.8.1-py3-none-any.whl (23 kB)\n",
            "Collecting monotonic>=1.5 (from posthog>=2.4.0->chromadb)\n",
            "  Downloading monotonic-1.6-py2.py3-none-any.whl (8.2 kB)\n",
            "Collecting backoff>=1.10.0 (from posthog>=2.4.0->chromadb)\n",
            "  Downloading backoff-2.2.1-py3-none-any.whl (15 kB)\n",
            "Requirement already satisfied: annotated-types>=0.4.0 in /usr/local/lib/python3.10/dist-packages (from pydantic>=1.9->chromadb) (0.6.0)\n",
            "Requirement already satisfied: pydantic-core==2.18.1 in /usr/local/lib/python3.10/dist-packages (from pydantic>=1.9->chromadb) (2.18.1)\n",
            "Requirement already satisfied: charset-normalizer<4,>=2 in /usr/local/lib/python3.10/dist-packages (from requests>=2.28->chromadb) (3.3.2)\n",
            "Requirement already satisfied: greenlet!=0.4.17 in /usr/local/lib/python3.10/dist-packages (from SQLAlchemy<3,>=1.4->langchain) (3.0.3)\n",
            "Requirement already satisfied: huggingface-hub<1.0,>=0.16.4 in /usr/local/lib/python3.10/dist-packages (from tokenizers>=0.13.2->chromadb) (0.20.3)\n",
            "Requirement already satisfied: click<9.0.0,>=7.1.1 in /usr/local/lib/python3.10/dist-packages (from typer>=0.9.0->chromadb) (8.1.7)\n",
            "Collecting httptools>=0.5.0 (from uvicorn[standard]>=0.18.3->chromadb)\n",
            "  Downloading httptools-0.6.1-cp310-cp310-manylinux_2_5_x86_64.manylinux1_x86_64.manylinux_2_17_x86_64.manylinux2014_x86_64.whl (341 kB)\n",
            "\u001b[2K     \u001b[90m━━━━━━━━━━━━━━━━━━━━━━━━━━━━━━━━━━━━━━━━\u001b[0m \u001b[32m341.4/341.4 kB\u001b[0m \u001b[31m18.2 MB/s\u001b[0m eta \u001b[36m0:00:00\u001b[0m\n",
            "\u001b[?25hCollecting uvloop!=0.15.0,!=0.15.1,>=0.14.0 (from uvicorn[standard]>=0.18.3->chromadb)\n",
            "  Downloading uvloop-0.19.0-cp310-cp310-manylinux_2_17_x86_64.manylinux2014_x86_64.whl (3.4 MB)\n",
            "\u001b[2K     \u001b[90m━━━━━━━━━━━━━━━━━━━━━━━━━━━━━━━━━━━━━━━━\u001b[0m \u001b[32m3.4/3.4 MB\u001b[0m \u001b[31m46.6 MB/s\u001b[0m eta \u001b[36m0:00:00\u001b[0m\n",
            "\u001b[?25hCollecting watchfiles>=0.13 (from uvicorn[standard]>=0.18.3->chromadb)\n",
            "  Downloading watchfiles-0.21.0-cp310-cp310-manylinux_2_17_x86_64.manylinux2014_x86_64.whl (1.3 MB)\n",
            "\u001b[2K     \u001b[90m━━━━━━━━━━━━━━━━━━━━━━━━━━━━━━━━━━━━━━━━\u001b[0m \u001b[32m1.3/1.3 MB\u001b[0m \u001b[31m43.4 MB/s\u001b[0m eta \u001b[36m0:00:00\u001b[0m\n",
            "\u001b[?25hCollecting websockets>=10.4 (from uvicorn[standard]>=0.18.3->chromadb)\n",
            "  Downloading websockets-12.0-cp310-cp310-manylinux_2_5_x86_64.manylinux1_x86_64.manylinux_2_17_x86_64.manylinux2014_x86_64.whl (130 kB)\n",
            "\u001b[2K     \u001b[90m━━━━━━━━━━━━━━━━━━━━━━━━━━━━━━━━━━━━━━━━\u001b[0m \u001b[32m130.2/130.2 kB\u001b[0m \u001b[31m13.6 MB/s\u001b[0m eta \u001b[36m0:00:00\u001b[0m\n",
            "\u001b[?25hRequirement already satisfied: cachetools<6.0,>=2.0.0 in /usr/local/lib/python3.10/dist-packages (from google-auth>=1.0.1->kubernetes>=28.1.0->chromadb) (5.3.3)\n",
            "Requirement already satisfied: pyasn1-modules>=0.2.1 in /usr/local/lib/python3.10/dist-packages (from google-auth>=1.0.1->kubernetes>=28.1.0->chromadb) (0.4.0)\n",
            "Requirement already satisfied: rsa<5,>=3.1.4 in /usr/local/lib/python3.10/dist-packages (from google-auth>=1.0.1->kubernetes>=28.1.0->chromadb) (4.9)\n",
            "Requirement already satisfied: filelock in /usr/local/lib/python3.10/dist-packages (from huggingface-hub<1.0,>=0.16.4->tokenizers>=0.13.2->chromadb) (3.13.4)\n",
            "Requirement already satisfied: fsspec>=2023.5.0 in /usr/local/lib/python3.10/dist-packages (from huggingface-hub<1.0,>=0.16.4->tokenizers>=0.13.2->chromadb) (2023.6.0)\n",
            "Requirement already satisfied: zipp>=0.5 in /usr/local/lib/python3.10/dist-packages (from importlib-metadata<=7.0,>=6.0->opentelemetry-api>=1.2.0->chromadb) (3.18.1)\n",
            "Collecting mypy-extensions>=0.3.0 (from typing-inspect<1,>=0.4.0->dataclasses-json<0.7,>=0.5.7->langchain)\n",
            "  Downloading mypy_extensions-1.0.0-py3-none-any.whl (4.7 kB)\n",
            "Collecting humanfriendly>=9.1 (from coloredlogs->onnxruntime>=1.14.1->chromadb)\n",
            "  Downloading humanfriendly-10.0-py2.py3-none-any.whl (86 kB)\n",
            "\u001b[2K     \u001b[90m━━━━━━━━━━━━━━━━━━━━━━━━━━━━━━━━━━━━━━━━\u001b[0m \u001b[32m86.8/86.8 kB\u001b[0m \u001b[31m9.8 MB/s\u001b[0m eta \u001b[36m0:00:00\u001b[0m\n",
            "\u001b[?25hRequirement already satisfied: mpmath>=0.19 in /usr/local/lib/python3.10/dist-packages (from sympy->onnxruntime>=1.14.1->chromadb) (1.3.0)\n",
            "Requirement already satisfied: pyasn1<0.7.0,>=0.4.6 in /usr/local/lib/python3.10/dist-packages (from pyasn1-modules>=0.2.1->google-auth>=1.0.1->kubernetes>=28.1.0->chromadb) (0.6.0)\n",
            "Building wheels for collected packages: pypika\n",
            "  Building wheel for pypika (pyproject.toml) ... \u001b[?25l\u001b[?25hdone\n",
            "  Created wheel for pypika: filename=PyPika-0.48.9-py2.py3-none-any.whl size=53724 sha256=28c7286b581545c62638f3e735c6736b971baf524217df12417db7b311a706e9\n",
            "  Stored in directory: /root/.cache/pip/wheels/e1/26/51/d0bffb3d2fd82256676d7ad3003faea3bd6dddc9577af665f4\n",
            "Successfully built pypika\n",
            "Installing collected packages: pypika, monotonic, mmh3, websockets, uvloop, python-dotenv, pulsar-client, packaging, overrides, orjson, opentelemetry-util-http, opentelemetry-semantic-conventions, opentelemetry-proto, mypy-extensions, lark, jsonpointer, importlib-metadata, humanfriendly, httptools, h11, deprecated, chroma-hnswlib, bcrypt, backoff, asgiref, watchfiles, uvicorn, typing-inspect, tiktoken, starlette, posthog, opentelemetry-exporter-otlp-proto-common, opentelemetry-api, marshmallow, jsonpatch, httpcore, coloredlogs, opentelemetry-sdk, opentelemetry-instrumentation, onnxruntime, langsmith, kubernetes, httpx, fastapi, dataclasses-json, opentelemetry-instrumentation-asgi, opentelemetry-exporter-otlp-proto-grpc, openai, langchain-core, opentelemetry-instrumentation-fastapi, langchain-text-splitters, langchain-openai, langchain-community, langchain, chromadb\n",
            "  Attempting uninstall: packaging\n",
            "    Found existing installation: packaging 24.0\n",
            "    Uninstalling packaging-24.0:\n",
            "      Successfully uninstalled packaging-24.0\n",
            "  Attempting uninstall: importlib-metadata\n",
            "    Found existing installation: importlib_metadata 7.1.0\n",
            "    Uninstalling importlib_metadata-7.1.0:\n",
            "      Successfully uninstalled importlib_metadata-7.1.0\n",
            "Successfully installed asgiref-3.8.1 backoff-2.2.1 bcrypt-4.1.2 chroma-hnswlib-0.7.3 chromadb-0.4.24 coloredlogs-15.0.1 dataclasses-json-0.6.4 deprecated-1.2.14 fastapi-0.110.2 h11-0.14.0 httpcore-1.0.5 httptools-0.6.1 httpx-0.27.0 humanfriendly-10.0 importlib-metadata-7.0.0 jsonpatch-1.33 jsonpointer-2.4 kubernetes-29.0.0 langchain-0.1.16 langchain-community-0.0.34 langchain-core-0.1.45 langchain-openai-0.1.3 langchain-text-splitters-0.0.1 langsmith-0.1.49 lark-1.1.9 marshmallow-3.21.1 mmh3-4.1.0 monotonic-1.6 mypy-extensions-1.0.0 onnxruntime-1.17.3 openai-1.23.2 opentelemetry-api-1.24.0 opentelemetry-exporter-otlp-proto-common-1.24.0 opentelemetry-exporter-otlp-proto-grpc-1.24.0 opentelemetry-instrumentation-0.45b0 opentelemetry-instrumentation-asgi-0.45b0 opentelemetry-instrumentation-fastapi-0.45b0 opentelemetry-proto-1.24.0 opentelemetry-sdk-1.24.0 opentelemetry-semantic-conventions-0.45b0 opentelemetry-util-http-0.45b0 orjson-3.10.1 overrides-7.7.0 packaging-23.2 posthog-3.5.0 pulsar-client-3.5.0 pypika-0.48.9 python-dotenv-1.0.1 starlette-0.37.2 tiktoken-0.6.0 typing-inspect-0.9.0 uvicorn-0.29.0 uvloop-0.19.0 watchfiles-0.21.0 websockets-12.0\n"
          ]
        }
      ],
      "source": [
        "!pip install chromadb pandas numpy langchain openai matplotlib python-dotenv tiktoken lark langchain-openai"
      ]
    },
    {
      "cell_type": "markdown",
      "metadata": {
        "id": "AAFnJsHWGQB5"
      },
      "source": [
        "# Packages descriptions\n",
        "- **chromadb** - for vector storage, integrates with LangChain for advanced data retrieval.\n",
        "- **pandas** - data manipulation and analysis with powerful data structures.\n",
        "- **numpy** - supports scientific computing with extensive array and matrix functionalities.\n",
        "- **langchain** - facilitates the development of language applications with built-in text processing tools.\n",
        "- **langchain_openai** - enhances LangChain integration with OpenAI services, facilitating the use of OpenAI embeddings and APIs.\n",
        "- **openai** - official OpenAI library for accessing AI models and APIs.\n",
        "- **matplotlib** - creates visualizations for data analysis and display.\n",
        "- **python-dotenv** - manages environment variables from `.env` files.\n",
        "- **tiktoken** - handles tokenization for text processing tasks.\n",
        "- **lark** - modern parser for constructing syntax trees from textual data.\n"
      ]
    },
    {
      "cell_type": "markdown",
      "metadata": {
        "id": "3_qNDBLyOWhg"
      },
      "source": [
        "I am using google colaboratory and upload this dataset in this way manually."
      ]
    },
    {
      "cell_type": "code",
      "execution_count": 13,
      "metadata": {
        "colab": {
          "base_uri": "https://localhost:8080/",
          "height": 73
        },
        "id": "T9YZrOrIOMdR",
        "outputId": "b1ae2c98-96a1-4d43-936b-6b42a8145b01"
      },
      "outputs": [
        {
          "data": {
            "text/html": [
              "\n",
              "     <input type=\"file\" id=\"files-b30c0029-39aa-4903-9d5a-0ac936dd78f4\" name=\"files[]\" multiple disabled\n",
              "        style=\"border:none\" />\n",
              "     <output id=\"result-b30c0029-39aa-4903-9d5a-0ac936dd78f4\">\n",
              "      Upload widget is only available when the cell has been executed in the\n",
              "      current browser session. Please rerun this cell to enable.\n",
              "      </output>\n",
              "      <script>// Copyright 2017 Google LLC\n",
              "//\n",
              "// Licensed under the Apache License, Version 2.0 (the \"License\");\n",
              "// you may not use this file except in compliance with the License.\n",
              "// You may obtain a copy of the License at\n",
              "//\n",
              "//      http://www.apache.org/licenses/LICENSE-2.0\n",
              "//\n",
              "// Unless required by applicable law or agreed to in writing, software\n",
              "// distributed under the License is distributed on an \"AS IS\" BASIS,\n",
              "// WITHOUT WARRANTIES OR CONDITIONS OF ANY KIND, either express or implied.\n",
              "// See the License for the specific language governing permissions and\n",
              "// limitations under the License.\n",
              "\n",
              "/**\n",
              " * @fileoverview Helpers for google.colab Python module.\n",
              " */\n",
              "(function(scope) {\n",
              "function span(text, styleAttributes = {}) {\n",
              "  const element = document.createElement('span');\n",
              "  element.textContent = text;\n",
              "  for (const key of Object.keys(styleAttributes)) {\n",
              "    element.style[key] = styleAttributes[key];\n",
              "  }\n",
              "  return element;\n",
              "}\n",
              "\n",
              "// Max number of bytes which will be uploaded at a time.\n",
              "const MAX_PAYLOAD_SIZE = 100 * 1024;\n",
              "\n",
              "function _uploadFiles(inputId, outputId) {\n",
              "  const steps = uploadFilesStep(inputId, outputId);\n",
              "  const outputElement = document.getElementById(outputId);\n",
              "  // Cache steps on the outputElement to make it available for the next call\n",
              "  // to uploadFilesContinue from Python.\n",
              "  outputElement.steps = steps;\n",
              "\n",
              "  return _uploadFilesContinue(outputId);\n",
              "}\n",
              "\n",
              "// This is roughly an async generator (not supported in the browser yet),\n",
              "// where there are multiple asynchronous steps and the Python side is going\n",
              "// to poll for completion of each step.\n",
              "// This uses a Promise to block the python side on completion of each step,\n",
              "// then passes the result of the previous step as the input to the next step.\n",
              "function _uploadFilesContinue(outputId) {\n",
              "  const outputElement = document.getElementById(outputId);\n",
              "  const steps = outputElement.steps;\n",
              "\n",
              "  const next = steps.next(outputElement.lastPromiseValue);\n",
              "  return Promise.resolve(next.value.promise).then((value) => {\n",
              "    // Cache the last promise value to make it available to the next\n",
              "    // step of the generator.\n",
              "    outputElement.lastPromiseValue = value;\n",
              "    return next.value.response;\n",
              "  });\n",
              "}\n",
              "\n",
              "/**\n",
              " * Generator function which is called between each async step of the upload\n",
              " * process.\n",
              " * @param {string} inputId Element ID of the input file picker element.\n",
              " * @param {string} outputId Element ID of the output display.\n",
              " * @return {!Iterable<!Object>} Iterable of next steps.\n",
              " */\n",
              "function* uploadFilesStep(inputId, outputId) {\n",
              "  const inputElement = document.getElementById(inputId);\n",
              "  inputElement.disabled = false;\n",
              "\n",
              "  const outputElement = document.getElementById(outputId);\n",
              "  outputElement.innerHTML = '';\n",
              "\n",
              "  const pickedPromise = new Promise((resolve) => {\n",
              "    inputElement.addEventListener('change', (e) => {\n",
              "      resolve(e.target.files);\n",
              "    });\n",
              "  });\n",
              "\n",
              "  const cancel = document.createElement('button');\n",
              "  inputElement.parentElement.appendChild(cancel);\n",
              "  cancel.textContent = 'Cancel upload';\n",
              "  const cancelPromise = new Promise((resolve) => {\n",
              "    cancel.onclick = () => {\n",
              "      resolve(null);\n",
              "    };\n",
              "  });\n",
              "\n",
              "  // Wait for the user to pick the files.\n",
              "  const files = yield {\n",
              "    promise: Promise.race([pickedPromise, cancelPromise]),\n",
              "    response: {\n",
              "      action: 'starting',\n",
              "    }\n",
              "  };\n",
              "\n",
              "  cancel.remove();\n",
              "\n",
              "  // Disable the input element since further picks are not allowed.\n",
              "  inputElement.disabled = true;\n",
              "\n",
              "  if (!files) {\n",
              "    return {\n",
              "      response: {\n",
              "        action: 'complete',\n",
              "      }\n",
              "    };\n",
              "  }\n",
              "\n",
              "  for (const file of files) {\n",
              "    const li = document.createElement('li');\n",
              "    li.append(span(file.name, {fontWeight: 'bold'}));\n",
              "    li.append(span(\n",
              "        `(${file.type || 'n/a'}) - ${file.size} bytes, ` +\n",
              "        `last modified: ${\n",
              "            file.lastModifiedDate ? file.lastModifiedDate.toLocaleDateString() :\n",
              "                                    'n/a'} - `));\n",
              "    const percent = span('0% done');\n",
              "    li.appendChild(percent);\n",
              "\n",
              "    outputElement.appendChild(li);\n",
              "\n",
              "    const fileDataPromise = new Promise((resolve) => {\n",
              "      const reader = new FileReader();\n",
              "      reader.onload = (e) => {\n",
              "        resolve(e.target.result);\n",
              "      };\n",
              "      reader.readAsArrayBuffer(file);\n",
              "    });\n",
              "    // Wait for the data to be ready.\n",
              "    let fileData = yield {\n",
              "      promise: fileDataPromise,\n",
              "      response: {\n",
              "        action: 'continue',\n",
              "      }\n",
              "    };\n",
              "\n",
              "    // Use a chunked sending to avoid message size limits. See b/62115660.\n",
              "    let position = 0;\n",
              "    do {\n",
              "      const length = Math.min(fileData.byteLength - position, MAX_PAYLOAD_SIZE);\n",
              "      const chunk = new Uint8Array(fileData, position, length);\n",
              "      position += length;\n",
              "\n",
              "      const base64 = btoa(String.fromCharCode.apply(null, chunk));\n",
              "      yield {\n",
              "        response: {\n",
              "          action: 'append',\n",
              "          file: file.name,\n",
              "          data: base64,\n",
              "        },\n",
              "      };\n",
              "\n",
              "      let percentDone = fileData.byteLength === 0 ?\n",
              "          100 :\n",
              "          Math.round((position / fileData.byteLength) * 100);\n",
              "      percent.textContent = `${percentDone}% done`;\n",
              "\n",
              "    } while (position < fileData.byteLength);\n",
              "  }\n",
              "\n",
              "  // All done.\n",
              "  yield {\n",
              "    response: {\n",
              "      action: 'complete',\n",
              "    }\n",
              "  };\n",
              "}\n",
              "\n",
              "scope.google = scope.google || {};\n",
              "scope.google.colab = scope.google.colab || {};\n",
              "scope.google.colab._files = {\n",
              "  _uploadFiles,\n",
              "  _uploadFilesContinue,\n",
              "};\n",
              "})(self);\n",
              "</script> "
            ],
            "text/plain": [
              "<IPython.core.display.HTML object>"
            ]
          },
          "metadata": {},
          "output_type": "display_data"
        },
        {
          "name": "stdout",
          "output_type": "stream",
          "text": [
            "Saving medium.csv to medium.csv\n"
          ]
        }
      ],
      "source": [
        "# from google.colab import files\n",
        "# uploaded = files.upload()"
      ]
    },
    {
      "cell_type": "markdown",
      "metadata": {
        "id": "MW7nvaKGNOwX"
      },
      "source": [
        "You can go to https://www.kaggle.com/datasets/meruvulikith/1300-towards-datascience-medium-articles-dataset page where you can download such dataset."
      ]
    },
    {
      "cell_type": "code",
      "execution_count": 14,
      "metadata": {
        "id": "eco7axKxVsqG"
      },
      "outputs": [],
      "source": [
        "import os\n",
        "import openai\n",
        "import pandas as pd\n",
        "import numpy as np\n",
        "import matplotlib.pyplot as plt\n",
        "from dotenv import load_dotenv\n",
        "from langchain.document_loaders import DataFrameLoader\n",
        "from langchain.text_splitter import TokenTextSplitter\n",
        "from langchain.vectorstores import Chroma\n",
        "from langchain.retrievers.self_query.base import SelfQueryRetriever\n",
        "from langchain.chains import RetrievalQA\n",
        "from langchain.chains.query_constructor.base import AttributeInfo\n",
        "from langchain_core.prompts import PromptTemplate\n",
        "from langchain_openai import OpenAI, OpenAIEmbeddings"
      ]
    },
    {
      "cell_type": "markdown",
      "metadata": {
        "id": "vy2d3TKqXRJ-"
      },
      "source": [
        "### API Key Configuration\n",
        "Setting up the OpenAI API key for accessing embedding services. While this notebook hardcodes the API key for simplicity, it's recommended to use environment variables for security and create `.env` file and store OPENAI_API_KEY variable with your key associated with it.\n"
      ]
    },
    {
      "cell_type": "code",
      "execution_count": 15,
      "metadata": {
        "id": "Iq54_Z0sXAVX"
      },
      "outputs": [],
      "source": [
        "load_dotenv()\n",
        "OPENAI_API_KEY = os.getenv('OPENAI_API_KEY')\n",
        "\n",
        "openai.api_key = OPENAI_API_KEY"
      ]
    },
    {
      "cell_type": "markdown",
      "metadata": {
        "id": "lJmzzkKUX-Kr"
      },
      "source": [
        "# Data Loading and Preparation\n",
        "Load the dataset into a pandas DataFrame for preprocessing and analysis. Utilize the DataFrameLoader from LangChain for efficient loading and explore the first few rows to understand the dataset structure.\n"
      ]
    },
    {
      "cell_type": "code",
      "execution_count": 16,
      "metadata": {
        "id": "U8VrT-ExX8tJ"
      },
      "outputs": [],
      "source": [
        "df = pd.read_csv(\"./medium.csv\")"
      ]
    },
    {
      "cell_type": "markdown",
      "metadata": {
        "id": "8Qe2gjgLYbpW"
      },
      "source": [
        "### Dataset Overview\n",
        "Generate a summary of the dataset using `info()` and `describe()` methods from pandas. This provides insights into the data types, count of non-null values, and statistical overview of numeric columns."
      ]
    },
    {
      "cell_type": "code",
      "execution_count": 17,
      "metadata": {
        "colab": {
          "base_uri": "https://localhost:8080/",
          "height": 206
        },
        "id": "JRO-hR54Yibo",
        "outputId": "a5f0791a-e82a-46e7-eef9-db24a8e248c5"
      },
      "outputs": [
        {
          "data": {
            "application/vnd.google.colaboratory.intrinsic+json": {
              "summary": "{\n  \"name\": \"df\",\n  \"rows\": 1391,\n  \"fields\": [\n    {\n      \"column\": \"Title\",\n      \"properties\": {\n        \"dtype\": \"string\",\n        \"num_unique_values\": 1390,\n        \"samples\": [\n          \"Quality Control Charts: p-chart and np-chart\",\n          \"Reinforcement Learning for Mobile Games\",\n          \"Pyspark \\u2013 data manipulation\"\n        ],\n        \"semantic_type\": \"\",\n        \"description\": \"\"\n      }\n    },\n    {\n      \"column\": \"Text\",\n      \"properties\": {\n        \"dtype\": \"string\",\n        \"num_unique_values\": 1391,\n        \"samples\": [\n          \"For the second consecutive year, I was lucky enough to attend the TensorFlow dev Summit on March 6th \\u2014 7th at the Google Event Center in Sunnyvale, California USA. Last year, I was impressed by the organization, the venue, the schedule, the speakers and I think this year was even better. So once again, congratulations to the Google and TensorFlow teams for organizing such an amazing event!\\n\\nTensorFlow Dev Summit still brings together a diverse mix of machine learning users from around the world; now for two days instead of one. The first day was full of technical talks, demos, new product announcements and other improvements to the framework, whereas the second day focused on lightning talks, hands-on sessions where attendees can code along with the TensorFlow team members.\\n\\nThere are a number of interesting things to say about this event so in this post, I will share my personal notes and briefly summarize what has caught my attention the most.\\n\\nDay 1- March 6th\\n\\nTensorFlow 2.0\\n\\nIn TensorFlow 2.0, the focus has been around making the API simpler, and more natural. The API components integrate better with Keras and, by default, the eager mode is activated. With 2.0, you can use Keras as you know it, building your models with the Sequential API, and then using compile and fit. Keras\\u2019s fit() will work for many cases; however, if needed, many more options are available. In the recent past, you needed to be familiar with tf.where, tf.select in order to write the conditions and it could have been hard to write a complex control flow as a TensorFlow graph. With 2.0, you can simply use the decorator @tf.function to write a complex control flow as TensorFlow graph. tf.function is just decorator to be attached to the Python function. TensorFlow compiler automatically resolves the dependency on the Tensor and creates the appropriate graph. That makes the development far easier to understand and use since we can now write the control flow of TensorFlow graphs as we write a \\u201cstandard\\u201d Python code.\\n\\na = tf.constant([1, 2])\\n\\nb = tf.constant([3, 4])\\n\\nprint(a + b)\\n\\n# returns: tf.Tensor([4 6], shape=(2,), dtype=int32)\\n\\nThe magic is achieved under the hood by overloading some method like __if__ or __while__ for example. So overall you do not need to write anymore :\\n\\ntf.session.run\\n\\ntf.control_dependencies\\n\\ntf.global_variables_initializer\\n\\ntf.cond, tf.while_loop\\n\\nAlong with the 2.0, the team also launched TensorFlow Datasets, a collection of commonly used ML datasets prepared and exposed as tf.data.Datasets or NumPy arrays for easy use in TensorFlow. In addition, they also provide conversion and migration tools to help with the transition from 1.x code to 2.0.\\n\\nTensorFlow Datasets & TensorFlow Probability\\n\\nOthers add-ons and extensions :\\n\\nTensorFlow Agents: library for reinforcement learning\\n\\nTF Federated : a library for federated learning to take advantage of decentralized data (i.e. data in different locations)\\n\\nTF Privacy : a library with tools to help train models with differential privacy\\n\\nMesh TensorFlow: a library to build and train massively large-scale models using parallelism technique\\n\\nTensorFlow Probability: probably one of the most exciting add-ons in my opinion, TensorFlow Probability is a library for using probabilistic methods in ML models for making predictions dealing with uncertainty and incorporating domain knowledge.\\n\\nThese and many more resources, examples, documentation, and case-studies on TensorFlow can be accessed from the tensorflow.org website.\\n\\nTensorFlow Extended\\n\\nOne of my favourite add-ons to TensorFlow ecosystem is TensorFlow Extended (TFX). TFX brings the management of the entire machine learning lifecycle to users. It has several component libraries including :\\n\\nTensorFlow Data Visualization(TFDV) for monitoring and validating ML data at scale.\\n\\nTensorFlow Transform for preprocessing tasks such as tokenization and format conversions.\\n\\nTensorFlow Model Analysis (TFMA) to enable developers to calculate and visualize model evaluation metrics.\\n\\nTensorFlow Serving for serving ML model and support versioning and multiple models support\\n\\nAnd as a bonus, it now integrates with open source orchestrators such as AirFlow and KubeFlow.\\n\\nTensorFlow Lite\\n\\nLaunched last year, TensorFlow Lite (TFLite) is a lightweight solution for on-device inference. According to Google, TFLite is now running on more than 2 billion mobile devices \\u2014 leading the next generation of ML on device. Running ML in edge device is required for the following reasons:\\n\\nFast Interactive Application (by running the ML application on the client side, we can eliminate the overhead of sending the data between server and client)\\n\\nData Privacy (by avoiding to send data to the server)\\n\\nThere have been some improvements to TensorFlow Lite\\u2019s general usability, model conversion features and performance. For example, by delegating the processing to an edge TPU, they achieve 62x faster inference time at maximum combining with quantization. They also introduce the Coral Dev Board, a single-board computer with a removable system-on-module featuring the Edge TPU, and the Coral USB Accelerator, an USB dongle designed to speed up machine learning inference on existing Raspberry Pi and Linux systems. In addition, they have also presented Sparkfun. Sparkfun is an edge demo board powered by TensorFlow. According to the information provided, Sparkfun can activate a blender or hot-water heater, or do anything your microcontroller can do when it hears a certain word, with nothing but a coin cell battery for power; interesting isn\\u2019t it? Even more interesting is that we received the Sparkfun board and the coral USB accelerator as a gift for attending the conference.\\n\\nTFDevSummit goodies\\n\\nThis kind of gift is always fun because we can try to use what we\\u2019ve learned. So I\\u2019m going to try all of these later :).\\n\\nThe SparkFun Edge board\\n\\nTensorFlow.js 1.0\\n\\nJavascript is one of the most used programming languages and TensorFlow.Js brings ML to JavaScript developers. During the conference they announced the released of TensorFlow.Js. In addition to core components, there are multiple supporting libraries around TensorFlow.js.\\n\\nActually, TensorFlow.js project will support various kind of platform such as Electron and React Native so that we can use the same application code in many platforms. Companies like AirBnb and Uber among others are using TensorFlow.js in production environments.\\n\\nSwift for TensorFlow\\n\\nProbably one of my favourite announcements last year, Swift for TensorFlow evolved with the release of version 0.2. It\\u2019s an incremental improvement; with 0.2, users can see increased usability and try out this novel ML paradigm. In addition, they also launched a new machine learning course using Swift for TensorFlow by fast.ai to make it easier to get started on ML with Swift.\\n\\nIn Codice Ratio\\n\\nThe project is developing a machine transcription system based on TensorFlow to speed up large scale search and knowledge discovery from the Vatican\\u2019s historical archives. A custom CNN trained on crowdsourced annotations enables the system to deal with challenging medieval handwriting.\\n\\nNew Courses on TensorFlow and TensorFlow world\\n\\nTwo new new online courses in collaboration respectively with Udacity and Coursera are available to learn TensorFlow.\\n\\nFinally, a new conference TensorFlow World will be held on Oct 28th-31st, 2019. TensorFlow World conference, organized in collaboration with O\\u2019Reilly, will bring engineers, developers, executives, and product managers to discuss their product/service offerings that have been powered by TensorFlow.\",\n          \"Reinforcement Learning for Mobile Games\\n\\nIntroduction\\n\\nDeep Reinforcement Learning has made a lot of buzz since it was introduced over 5 years ago with the original DQN paper, which showed how Reinforcement Learning combined with a neural network for function approximation can be used to learn how to play Atari games from visual inputs.\\n\\nSince then there have been numerous improvements to the algorithms, continuously beating the previous benchmarks. Research and testing new algorithms typically use the fast and stable Atari Benchmark, as well as custom-tailored environments such as those found in OpenAI Gym and DMLab. In addition, we can run hundreds of classic console games using the Gym Retro library using emulators.\\n\\nFor modern games, the main focus has recently been the hardest competitive games, in particular, Dota2 and Starcraft2. Both have achieved very impressive results from OpenAI and DeepMind, training across a huge distributed cluster, reaching total experience of thousands of years of game-play. In both these cases, the observations/inputs were numeric features and not visual frames, bypassing the need for the AI to learn how to extract these features itself as typically done for Atari games. The computing resources required are also not something most researchers or small companies have available.\\n\\nHere I attempt to apply RL to some modern mobile android games, using only visual inputs as observations, and a reasonable budget amount of computational resources, on par with what\\u2019s typically considered \\u2018sample efficient\\u2019 when learning to play Atari games.\\n\\nAndroid Environments\\n\\nI use a configurable amount of Android Emulators as the environment for the RL agent to learn to play. Each emulator is controlled by an asynchronous driver which gathers experiences for training by grabbing a visual frame, selecting an action using the RL policy, sending that action back to the emulator, and sending the transition data back to be used for training.\\n\\nNot Really Emulation\\n\\nAt its core, the android emulator is a \\u2018true emulator\\u2019, able to emulate the ARM instruction set and potentially able to be used as a fully emulated RL environment similar to the ALE or gym-retro environments, where the emulation can be paused/resumed as needed when the next action/observation step is needed. In reality though, emulation on the Android Emulator is extremely slow, especially for games, and not feasible for our task.\\n\\nThe only option is to run the emulator with hardware acceleration for the CPU (Using HAXM/KVM on windows/linux). In this case, an x86 android image is used and the android instructions run directly on the host CPU in real-time using virtualization. This lets us reach the stable android performance we need, but has a few drawbacks:\\n\\nIt means the emulator runs in real-time. This means we need to consistently grab frames, select actions and send those actions with minimal latency. The agent cannot for example pause and wait for a training step to complete, so each environment instance must run asynchronously\\n\\nThis also means we are confined to the \\u2018actual play-time\\u2019, for example, 60FPS, compared to emulation environments like the ALE which can speed up emulated play-time by orders of magnitude for much faster training\\n\\nBecause the android emulator is now running with CPU virtualization, it makes it problematic to run the emulators on VM instances from the popular cloud providers. Some of these providers support \\u2018Nested Virtualization\\u2019 for this purpose, but in practice, I could not get this to work well. Either the emulator failed to boot, or it succeeded but ran much slower than on non-VM servers. This limits us to running these environments on custom server builds or \\u2018bare metal\\u2019 cloud servers which are much less common.\\n\\nFrame Grabbing\\n\\nThe environment driver grabs visual frames from the emulator at a fixed configurable rate and also tracks how many \\u2018dropped frames\\u2019 it had due to latencies in the agent. The main goal was to ensure minimal such frame drops, which could be detrimental to gameplay. This required to limit the number of emulators running on a single machine, in particular when training was also done on the same machine, to ensure enough CPU bandwidth for acting and training. 2 dedicated CPU cores (4 vCPUs) were needed per emulator to get stable gameplay.\\n\\nI configured the frame grabbing to 30FPS with a frame-skip of either 2 or 4 (Compared to 60FPS with a frame-skip of 4 typically used in Atari training).\\n\\nThe android emulators are run at a 320x480 (Portrait) resolution to minimize the rendering overhead. This was the minimal resolution at which the games still worked normally. This gives us raw observations of size 320x480x3, which were then scaled down to 80x120x3 for the final observation used as the policy input (Compared to 84x84x1 grayscale observations used in most Atari research)\\n\\nAction Delays\\n\\nAnother issue I encountered was an inherent delay in the Android Emulator from the time I sent an action until it was actually received/executed by the game. The delay was about 60\\u201390ms, which should seemingly be negligible and something the learning should be able to account for (Even recent Starcraft 2 work from DeepMind mentions delays of around 250ms), but in reality, I found these can hurt the ability to optimally learn how to play.\\n\\nTo confirm this point I created a custom wrapper for Atari environments from OpenAI gym which inserted an artificial configurable delay from the time an action was sent by the agent until it was sent to the actual environment. Even with a delay of 60\\u201390ms I saw a non-negligible reduction in final performance when training a tuned RL algorithm with the delay, compared to without the delay.\\n\\nThis isn\\u2019t to say we shouldn\\u2019t be able to learn how to play with such delays, as these delays can be the common case when applying RL to real-time tasks such as robots or drones. But it might be worthwhile to consider inserting such delays into the commonly used benchmark tasks when testing and comparing RL algorithms, to ensure the algorithms are robust to them.\\n\\nDetecting and Skipping Screens\\n\\nIn order to provide an environment which can be used for RL we need to handle detecting and tapping through irrelevant screens:\\n\\nTapping in the right place to start a new game\\n\\nDetecting screens which signify the game is over, and tapping the appropriate places to start a new game\\n\\nDetecting various popup screens and closing them (Messages, new character unlocks, new item, etc..)\\n\\nThe above can probably be automated somehow, maybe even using some sort of AI/learning, but that\\u2019s a totally different topic which I did not deal with. For now, I just manually configured the relevant screens per game and where to tap when encountering such a screen.\\n\\nRewards\\n\\nI used a \\u2018Score Change\\u2019 based reward signal. This gives a +1 reward every time the score changes. Instead of dealing with OCR of the actual score value, I found it was enough and easier to just detect the score value changed and give +1 in this case. For most games, this translates to the actual score (Except for some occasional misdetections). Moreover, since many RL algorithms clip the rewards to -1/+1 it is less important to detect the actual score in this case.\\n\\nSample Efficient Scalable RL\\n\\nBecause of the slowness and high resource cost of training on the Android emulators, I went looking for a sample efficient RL algorithm which can scale well to multiple environments.\\n\\nI tried various families of RL algorithms but eventually focused on q-learning variants, in particular due to the fact that the games I was trying to learn had discrete action spaces with near-zero tolerance for errors (i.e. choosing a single wrong action will very oftentimes lead to a game-over). This makes value-based methods like q-learning more suitable than stochastic algorithms such as actor-critic variants (Though it is still possible for stochastic algorithms to converge to a good policy, I initially got fairly good results using PPO, but overall stabler and better with DQN variants).\\n\\nThe current go-to sample-efficient RL algorithm for discrete actions is Rainbow. Rainbow takes the original DQN algorithm, and combines 6 independent improvements into a single agent, reaching state-of-the-art results on the Atari benchmark at the 200M total frames threshold (~38 days of \\u2018play-time\\u2019).\\n\\nIQN is an improved distributional version of DQN, surpassing the previous C51 and QR-DQN, and is able to almost match the performance of Rainbow, without any of the other improvements used by Rainbow.\\n\\nBoth Rainbow and IQN are \\u2018single agent\\u2019 algorithms though, running on a single environment instance, and take 7\\u201310 days to train. Running a single android emulator agent in real-time at 60fps for 200M frames would take 38 days.\\n\\nFor multi-actor/distributed q-learning, the state-of-the-art is R2D2. R2D2 is a distributed multi-actor algorithm, improving over the previously published APEX with additional improvements, in particular using a \\u2018recurrent\\u2019 version of the DQN model with an added LSTM layer in the middle, to help the agent maintain a \\u2018memory\\u2019 of what happened until now and perform better long-term planning of its actions.\\n\\nThe LSTM is shown to be a big help even on Atari where most games are fully observable (i.e. the full state of the game can be seen on the screen) which should seemingly not benefit from LSTM memory. There is not much research on why it helps, but one possible explanation is it allows the policy to \\u2018follow a plan\\u2019 which allows it to learn and play more efficiently.\\n\\nR2D2 reaches extremely high scores on almost all Atari games, leaving little room for improvement, however, it does so at the cost of sample-efficiency, requiring to see over 50x more environment frames than sample efficient algorithms. Still though it is able to achieve this in less time (5 Days) than Rainbow/IQN thanks to its highly distributed architecture running 256 asynchronous actors on the high-speed Atari emulations using 256 CPUs. This would not be feasible though for my android setup, where the environment runs ~10x slower and needs 2 CPUs per instance.\\n\\nIn order to maximize my resource utilization and minimize training time, I worked on combining features from IQN/Rainbow/R2D2 into a \\u2018Recurrent IQN\\u2019 training algorithm (full details here), which achieves improved sample-efficient results on the Atari benchmark with the option of running multiple actors in parallel, allowing me to train on the slow android environments efficiently in a reasonable amount of time (Up to a few days).\\n\\nTraining Setup\\n\\nFor training, I used a custom (non-VM) server with 32 CPUs and an NVIDIA 1080ti GPU. I ran 12 Android Instances per training session, each gathering experiences asynchronously in separate processes using a shared-memory copy of the main policy, to avoid latencies when one of the actors had to pause (for example to restart after a game-over). Experiences were retrieved from the processes between training steps to fill the training replay buffer.\\n\\nI used the same hyperparameters and \\u2018Recurrent IQN\\u2019 algorithm as the one tuned for the Atari Benchmark, with a few modifications:\\n\\nReduced from 32 to 12 ENVs\\n\\nENVs run asynchronously instead of vectorized, with a shared-memory policy updated every 1000 steps with weights from the training policy\\n\\nA fixed decaying exploration rate, from 1.0 to 0.001 per actor (The extra low exploration rate is needed as the games I am using are extremely sensitive to \\u2018wrong actions\\u2019, so the common 0.01 rate would make it hard for the training actors to reach longer episodes)\\n\\nVisual game frames are scaled from 320x480x3 resolution to 80x120x3 RGB observations (Compared to 84x84x1 grayscale observations commonly used in Atari)\\n\\nFrames are grabbed from the emulator at 30FPS, with a frame-skip of either 2 or 4 depending on the game, without \\u2018max merging\\u2019 (i.e. agent transitions are either 15 or 7.5 steps-per-second, compared to 15 typically done in Atari learning). The lower rate is needed in some games where the actions would otherwise take longer than the step-time (For example swipe actions)\\n\\nGames and Results\\n\\nI use the following 3 games to focus testing on:\\n\\nFlappy Bird: A very hard and frustrating game for human players, requiring very fast and precise reaction time, but has a very simple mechanic and constant visuals, so the overall policy to learn should be a relatively simple one\\n\\nSubway Surfers: The popular endless arcade game, dodging trains by swiping between 3 lanes, jumping or crouching above and under obstacles, and trying to collect coins along the way\\n\\nCrossy Road: The infamous chicken hopper game requires the agent to plan ahead and get moving at the right time while considering the oncoming traffic and car trajectories, floating water logs, and fast passing trains\\n\\nAll games are evaluated using the final training policy, with no random-action epsilon.\\n\\nFlappy Bird\\n\\nA high score for Flappy Bird. Reached the 30-minute time limit without dying\\n\\nFlappy Bird was trained at 30FPS with a frame-skip of 2 (15 Steps-Per-Second) for a total of 25M steps (Equivalent to about half the total \\u2018gameplay time\\u2019 used in sample-efficient Atari training). This takes around 40 hours to train using 12 emulators.\\n\\nThe action space has a single action (Tap) and an additional \\u2018noop action\\u2019. The reward is +1 each time the score changes (i.e. each time the bird passes a pipe)\\n\\nTraining chart for Flappy Bird, average reward of last 100 episodes\\n\\nThis game is notorious for taking time to start learning because the initial reward is received only after passing the first pipe, which can be extremely hard and random for an untrained agent using random exploration. There are hundreds of thousands of initial steps with 0 reward, which means the agent has no feedback at all and no way to learn. Only after we get some experiences of passing the first pipe (Which is purely random), the agent finally starts to figure it out, from that point it fairly steadily improves, but it takes over 2M steps to reach that point.\\n\\nThis game is extremely sensitive to wrong actions, for example performing evaluation with a random-action epsilon of 0.001 results in a mean reward of 143 instead of 420, as seen also in the training chart final results (Training also uses 0.001 for the final exploration rate)\\n\\nEvaluation Score: Average 420, Max 1363 (10 Eval Episodes)\\n\\nSubway Surfers\\n\\n2 high scoring Subway Surfer games\\n\\nFor this game, I used the coin collection count as the reward, to encourage the agent to collect coins, which in itself is not necessary in order to progress, but is an important ability to learn. I also added a negative (-1) reward upon game over to encourage the agent to learn not to lose, regardless of coin collection.\\n\\nThe game is trained at 30FPS with a frame-skip of 4 (7.5 steps-per-second compared to 15 commonly used in Atari, due to the swipe gesture taking longer than 66ms), for 25M steps (Equivalent in total play-time to common sample-efficient Atari training using 200M frames at 60FPS). This takes around 90 hours to train using 12 emulators.\\n\\nThe action space here has 4 actions (Swipe up/down/left/right) and the \\u2018noop action\\u2019.\\n\\nInterestingly the agent almost never chooses the noop action and prefers to always either jump or slide down even when it doesn\\u2019t really need to. This sort of makes sense as there is no downside to doing that and it can only help in some cases (Not all training runs are like this, some had many more noop actions). We can maybe try to mitigate this by adding a small negative reward on each action taken (e.g. -0.1).\\n\\nTraining chart for Subway Surfers, average reward of last 100 episodes\\n\\nEvaluation Score: Average 142, max 434 (30 Eval Episodes)\\n\\nCrossy Road\\n\\n3 high scoring Crossy Road games\\n\\nCrossy Road is trained at the same frame/step rate as Subway Surfers. The reward is +1 on every score change (Which is every time the chicken moves a step forward).\\n\\nThe agent clearly has a preference to try to only move forward, but it knows to move left/right and even back when needed.\\n\\nTraining chart for Crossy Road, average reward of last 100 episodes\\n\\nEvaluation Score: Average 41, Max 139 (30 Eval Episodes)\\n\\nConclusion\\n\\nThe results look promising so far, although still not what we would consider \\u2018superhuman\\u2019 (Except maybe Flappy Bird). Still, it\\u2019s promising to see RL able to learn modern casual games in real-time from visual inputs, using the same hyperparameters as Atari, within a reasonable amount of time, frames and resources.\\n\\nIt\\u2019s also pretty clear from the charts that learning hasn\\u2019t plateaued, and it would be interesting to see what results we can get going to 50M or even 100M steps and beyond, and with some hyperparameter tuning.\",\n          \"For those who are not at ease with Git and GitHub, I made this super simple tutorial to get started and learn what the advantage of Git and GitHub can be.\\n\\nAfter this tutorial in five super simple steps, you will have a very basic, but fundamentally important, understanding of GitHub.\\n\\nThis is a practical tutorial. If you want a more in-depth read about GitHub, check out my other article here: All you need to know before getting started with GitHub.\\n\\n1. Make a repository on GitHub\\n\\nGo to GitHub.com and click on \\u2018Create Repository\\u2019.\\n\\nGive your repository a name and a description.\\n\\nCheck the box at Initialize this repository with a README (the readme is a simple text file in which you can put information about the current project)\\n\\nThen click \\u2018Create repository\\u2019.\\n\\n2. Clone the repository to your local pc\\n\\nITowork on your code, you need to get this repository onto your pc. This is done by cloning it.\\n\\nThe easiest way to get this done is through GitHub Desktop.\\n\\nCloning a repository through GitHub Desktop\\n\\nWhen you do this (of course you should have GitHub Desktop installed) you see the following screen:\\n\\nChoose the correct location and clone your repository.\\n\\nYou will now be able to find it on your computer.\\n\\n3. Add a code file to your repository\\n\\nFor this step, ignore GitHub. Just browse on your pc to the location where you have cloned the repository and create a test file:\\n\\nName the file \\u2018testfile\\u2019:\"\n        ],\n        \"semantic_type\": \"\",\n        \"description\": \"\"\n      }\n    }\n  ]\n}",
              "type": "dataframe",
              "variable_name": "df"
            },
            "text/html": [
              "\n",
              "  <div id=\"df-2ecb8b5f-8636-4f0a-be70-3f910cfb7f5b\" class=\"colab-df-container\">\n",
              "    <div>\n",
              "<style scoped>\n",
              "    .dataframe tbody tr th:only-of-type {\n",
              "        vertical-align: middle;\n",
              "    }\n",
              "\n",
              "    .dataframe tbody tr th {\n",
              "        vertical-align: top;\n",
              "    }\n",
              "\n",
              "    .dataframe thead th {\n",
              "        text-align: right;\n",
              "    }\n",
              "</style>\n",
              "<table border=\"1\" class=\"dataframe\">\n",
              "  <thead>\n",
              "    <tr style=\"text-align: right;\">\n",
              "      <th></th>\n",
              "      <th>Title</th>\n",
              "      <th>Text</th>\n",
              "    </tr>\n",
              "  </thead>\n",
              "  <tbody>\n",
              "    <tr>\n",
              "      <th>0</th>\n",
              "      <td>A Beginner’s Guide to Word Embedding with Gens...</td>\n",
              "      <td>1. Introduction of Word2vec\\n\\nWord2vec is one...</td>\n",
              "    </tr>\n",
              "    <tr>\n",
              "      <th>1</th>\n",
              "      <td>Hands-on Graph Neural Networks with PyTorch &amp; ...</td>\n",
              "      <td>In my last article, I introduced the concept o...</td>\n",
              "    </tr>\n",
              "    <tr>\n",
              "      <th>2</th>\n",
              "      <td>How to Use ggplot2 in Python</td>\n",
              "      <td>Introduction\\n\\nThanks to its strict implement...</td>\n",
              "    </tr>\n",
              "    <tr>\n",
              "      <th>3</th>\n",
              "      <td>Databricks: How to Save Data Frames as CSV Fil...</td>\n",
              "      <td>Photo credit to Mika Baumeister from Unsplash\\...</td>\n",
              "    </tr>\n",
              "    <tr>\n",
              "      <th>4</th>\n",
              "      <td>A Step-by-Step Implementation of Gradient Desc...</td>\n",
              "      <td>A Step-by-Step Implementation of Gradient Desc...</td>\n",
              "    </tr>\n",
              "  </tbody>\n",
              "</table>\n",
              "</div>\n",
              "    <div class=\"colab-df-buttons\">\n",
              "\n",
              "  <div class=\"colab-df-container\">\n",
              "    <button class=\"colab-df-convert\" onclick=\"convertToInteractive('df-2ecb8b5f-8636-4f0a-be70-3f910cfb7f5b')\"\n",
              "            title=\"Convert this dataframe to an interactive table.\"\n",
              "            style=\"display:none;\">\n",
              "\n",
              "  <svg xmlns=\"http://www.w3.org/2000/svg\" height=\"24px\" viewBox=\"0 -960 960 960\">\n",
              "    <path d=\"M120-120v-720h720v720H120Zm60-500h600v-160H180v160Zm220 220h160v-160H400v160Zm0 220h160v-160H400v160ZM180-400h160v-160H180v160Zm440 0h160v-160H620v160ZM180-180h160v-160H180v160Zm440 0h160v-160H620v160Z\"/>\n",
              "  </svg>\n",
              "    </button>\n",
              "\n",
              "  <style>\n",
              "    .colab-df-container {\n",
              "      display:flex;\n",
              "      gap: 12px;\n",
              "    }\n",
              "\n",
              "    .colab-df-convert {\n",
              "      background-color: #E8F0FE;\n",
              "      border: none;\n",
              "      border-radius: 50%;\n",
              "      cursor: pointer;\n",
              "      display: none;\n",
              "      fill: #1967D2;\n",
              "      height: 32px;\n",
              "      padding: 0 0 0 0;\n",
              "      width: 32px;\n",
              "    }\n",
              "\n",
              "    .colab-df-convert:hover {\n",
              "      background-color: #E2EBFA;\n",
              "      box-shadow: 0px 1px 2px rgba(60, 64, 67, 0.3), 0px 1px 3px 1px rgba(60, 64, 67, 0.15);\n",
              "      fill: #174EA6;\n",
              "    }\n",
              "\n",
              "    .colab-df-buttons div {\n",
              "      margin-bottom: 4px;\n",
              "    }\n",
              "\n",
              "    [theme=dark] .colab-df-convert {\n",
              "      background-color: #3B4455;\n",
              "      fill: #D2E3FC;\n",
              "    }\n",
              "\n",
              "    [theme=dark] .colab-df-convert:hover {\n",
              "      background-color: #434B5C;\n",
              "      box-shadow: 0px 1px 3px 1px rgba(0, 0, 0, 0.15);\n",
              "      filter: drop-shadow(0px 1px 2px rgba(0, 0, 0, 0.3));\n",
              "      fill: #FFFFFF;\n",
              "    }\n",
              "  </style>\n",
              "\n",
              "    <script>\n",
              "      const buttonEl =\n",
              "        document.querySelector('#df-2ecb8b5f-8636-4f0a-be70-3f910cfb7f5b button.colab-df-convert');\n",
              "      buttonEl.style.display =\n",
              "        google.colab.kernel.accessAllowed ? 'block' : 'none';\n",
              "\n",
              "      async function convertToInteractive(key) {\n",
              "        const element = document.querySelector('#df-2ecb8b5f-8636-4f0a-be70-3f910cfb7f5b');\n",
              "        const dataTable =\n",
              "          await google.colab.kernel.invokeFunction('convertToInteractive',\n",
              "                                                    [key], {});\n",
              "        if (!dataTable) return;\n",
              "\n",
              "        const docLinkHtml = 'Like what you see? Visit the ' +\n",
              "          '<a target=\"_blank\" href=https://colab.research.google.com/notebooks/data_table.ipynb>data table notebook</a>'\n",
              "          + ' to learn more about interactive tables.';\n",
              "        element.innerHTML = '';\n",
              "        dataTable['output_type'] = 'display_data';\n",
              "        await google.colab.output.renderOutput(dataTable, element);\n",
              "        const docLink = document.createElement('div');\n",
              "        docLink.innerHTML = docLinkHtml;\n",
              "        element.appendChild(docLink);\n",
              "      }\n",
              "    </script>\n",
              "  </div>\n",
              "\n",
              "\n",
              "<div id=\"df-b771277e-d8dd-4d83-b821-006f902f16b8\">\n",
              "  <button class=\"colab-df-quickchart\" onclick=\"quickchart('df-b771277e-d8dd-4d83-b821-006f902f16b8')\"\n",
              "            title=\"Suggest charts\"\n",
              "            style=\"display:none;\">\n",
              "\n",
              "<svg xmlns=\"http://www.w3.org/2000/svg\" height=\"24px\"viewBox=\"0 0 24 24\"\n",
              "     width=\"24px\">\n",
              "    <g>\n",
              "        <path d=\"M19 3H5c-1.1 0-2 .9-2 2v14c0 1.1.9 2 2 2h14c1.1 0 2-.9 2-2V5c0-1.1-.9-2-2-2zM9 17H7v-7h2v7zm4 0h-2V7h2v10zm4 0h-2v-4h2v4z\"/>\n",
              "    </g>\n",
              "</svg>\n",
              "  </button>\n",
              "\n",
              "<style>\n",
              "  .colab-df-quickchart {\n",
              "      --bg-color: #E8F0FE;\n",
              "      --fill-color: #1967D2;\n",
              "      --hover-bg-color: #E2EBFA;\n",
              "      --hover-fill-color: #174EA6;\n",
              "      --disabled-fill-color: #AAA;\n",
              "      --disabled-bg-color: #DDD;\n",
              "  }\n",
              "\n",
              "  [theme=dark] .colab-df-quickchart {\n",
              "      --bg-color: #3B4455;\n",
              "      --fill-color: #D2E3FC;\n",
              "      --hover-bg-color: #434B5C;\n",
              "      --hover-fill-color: #FFFFFF;\n",
              "      --disabled-bg-color: #3B4455;\n",
              "      --disabled-fill-color: #666;\n",
              "  }\n",
              "\n",
              "  .colab-df-quickchart {\n",
              "    background-color: var(--bg-color);\n",
              "    border: none;\n",
              "    border-radius: 50%;\n",
              "    cursor: pointer;\n",
              "    display: none;\n",
              "    fill: var(--fill-color);\n",
              "    height: 32px;\n",
              "    padding: 0;\n",
              "    width: 32px;\n",
              "  }\n",
              "\n",
              "  .colab-df-quickchart:hover {\n",
              "    background-color: var(--hover-bg-color);\n",
              "    box-shadow: 0 1px 2px rgba(60, 64, 67, 0.3), 0 1px 3px 1px rgba(60, 64, 67, 0.15);\n",
              "    fill: var(--button-hover-fill-color);\n",
              "  }\n",
              "\n",
              "  .colab-df-quickchart-complete:disabled,\n",
              "  .colab-df-quickchart-complete:disabled:hover {\n",
              "    background-color: var(--disabled-bg-color);\n",
              "    fill: var(--disabled-fill-color);\n",
              "    box-shadow: none;\n",
              "  }\n",
              "\n",
              "  .colab-df-spinner {\n",
              "    border: 2px solid var(--fill-color);\n",
              "    border-color: transparent;\n",
              "    border-bottom-color: var(--fill-color);\n",
              "    animation:\n",
              "      spin 1s steps(1) infinite;\n",
              "  }\n",
              "\n",
              "  @keyframes spin {\n",
              "    0% {\n",
              "      border-color: transparent;\n",
              "      border-bottom-color: var(--fill-color);\n",
              "      border-left-color: var(--fill-color);\n",
              "    }\n",
              "    20% {\n",
              "      border-color: transparent;\n",
              "      border-left-color: var(--fill-color);\n",
              "      border-top-color: var(--fill-color);\n",
              "    }\n",
              "    30% {\n",
              "      border-color: transparent;\n",
              "      border-left-color: var(--fill-color);\n",
              "      border-top-color: var(--fill-color);\n",
              "      border-right-color: var(--fill-color);\n",
              "    }\n",
              "    40% {\n",
              "      border-color: transparent;\n",
              "      border-right-color: var(--fill-color);\n",
              "      border-top-color: var(--fill-color);\n",
              "    }\n",
              "    60% {\n",
              "      border-color: transparent;\n",
              "      border-right-color: var(--fill-color);\n",
              "    }\n",
              "    80% {\n",
              "      border-color: transparent;\n",
              "      border-right-color: var(--fill-color);\n",
              "      border-bottom-color: var(--fill-color);\n",
              "    }\n",
              "    90% {\n",
              "      border-color: transparent;\n",
              "      border-bottom-color: var(--fill-color);\n",
              "    }\n",
              "  }\n",
              "</style>\n",
              "\n",
              "  <script>\n",
              "    async function quickchart(key) {\n",
              "      const quickchartButtonEl =\n",
              "        document.querySelector('#' + key + ' button');\n",
              "      quickchartButtonEl.disabled = true;  // To prevent multiple clicks.\n",
              "      quickchartButtonEl.classList.add('colab-df-spinner');\n",
              "      try {\n",
              "        const charts = await google.colab.kernel.invokeFunction(\n",
              "            'suggestCharts', [key], {});\n",
              "      } catch (error) {\n",
              "        console.error('Error during call to suggestCharts:', error);\n",
              "      }\n",
              "      quickchartButtonEl.classList.remove('colab-df-spinner');\n",
              "      quickchartButtonEl.classList.add('colab-df-quickchart-complete');\n",
              "    }\n",
              "    (() => {\n",
              "      let quickchartButtonEl =\n",
              "        document.querySelector('#df-b771277e-d8dd-4d83-b821-006f902f16b8 button');\n",
              "      quickchartButtonEl.style.display =\n",
              "        google.colab.kernel.accessAllowed ? 'block' : 'none';\n",
              "    })();\n",
              "  </script>\n",
              "</div>\n",
              "    </div>\n",
              "  </div>\n"
            ],
            "text/plain": [
              "                                               Title  \\\n",
              "0  A Beginner’s Guide to Word Embedding with Gens...   \n",
              "1  Hands-on Graph Neural Networks with PyTorch & ...   \n",
              "2                       How to Use ggplot2 in Python   \n",
              "3  Databricks: How to Save Data Frames as CSV Fil...   \n",
              "4  A Step-by-Step Implementation of Gradient Desc...   \n",
              "\n",
              "                                                Text  \n",
              "0  1. Introduction of Word2vec\\n\\nWord2vec is one...  \n",
              "1  In my last article, I introduced the concept o...  \n",
              "2  Introduction\\n\\nThanks to its strict implement...  \n",
              "3  Photo credit to Mika Baumeister from Unsplash\\...  \n",
              "4  A Step-by-Step Implementation of Gradient Desc...  "
            ]
          },
          "execution_count": 17,
          "metadata": {},
          "output_type": "execute_result"
        }
      ],
      "source": [
        "df.head()"
      ]
    },
    {
      "cell_type": "markdown",
      "metadata": {
        "id": "-Bsp-rGKYlBs"
      },
      "source": [
        "Also it is worth to know some information about current dataset, so that we are using .info() and .describe() methods provided by pandas."
      ]
    },
    {
      "cell_type": "code",
      "execution_count": 18,
      "metadata": {
        "colab": {
          "base_uri": "https://localhost:8080/"
        },
        "id": "oBymlKWMYzAN",
        "outputId": "75384fef-c7ab-4619-e3cd-958fada6a204"
      },
      "outputs": [
        {
          "name": "stdout",
          "output_type": "stream",
          "text": [
            "<class 'pandas.core.frame.DataFrame'>\n",
            "RangeIndex: 1391 entries, 0 to 1390\n",
            "Data columns (total 2 columns):\n",
            " #   Column  Non-Null Count  Dtype \n",
            "---  ------  --------------  ----- \n",
            " 0   Title   1391 non-null   object\n",
            " 1   Text    1391 non-null   object\n",
            "dtypes: object(2)\n",
            "memory usage: 21.9+ KB\n"
          ]
        }
      ],
      "source": [
        "df.info()"
      ]
    },
    {
      "cell_type": "markdown",
      "metadata": {
        "id": "Mn_LTwoPaG_1"
      },
      "source": [
        "Load data using DataFrameLoader provided by LangChain"
      ]
    },
    {
      "cell_type": "code",
      "execution_count": 19,
      "metadata": {
        "id": "JhNXv0GgX3qJ"
      },
      "outputs": [],
      "source": [
        "loader = DataFrameLoader(df, page_content_column=\"Text\")\n",
        "docs = loader.load()"
      ]
    },
    {
      "cell_type": "markdown",
      "metadata": {
        "id": "i-0WsSVXaLeV"
      },
      "source": [
        "Display the loaded documents to verify the loading process. Each document consists of `page_content` with the article text and `metadata` including the article title."
      ]
    },
    {
      "cell_type": "code",
      "execution_count": 20,
      "metadata": {
        "colab": {
          "base_uri": "https://localhost:8080/"
        },
        "id": "31ShBu7kaKdU",
        "outputId": "bf5c829b-4797-442a-ca11-ca6111b73d54"
      },
      "outputs": [
        {
          "name": "stdout",
          "output_type": "stream",
          "text": [
            "Number of docs loaded:  1391\n",
            "First three docs\n",
            " [Document(page_content='1. Introduction of Word2vec\\n\\nWord2vec is one of the most popular technique to learn word embeddings using a two-layer neural network. Its input is a text corpus and its output is a set of vectors. Word embedding via word2vec can make natural language computer-readable, then further implementation of mathematical operations on words can be used to detect their similarities. A well-trained set of word vectors will place similar words close to each other in that space. For instance, the words women, men, and human might cluster in one corner, while yellow, red and blue cluster together in another.\\n\\nThere are two main training algorithms for word2vec, one is the continuous bag of words(CBOW), another is called skip-gram. The major difference between these two methods is that CBOW is using context to predict a target word while skip-gram is using a word to predict a target context. Generally, the skip-gram method can have a better performance compared with CBOW method, for it can capture two semantics for a single word. For instance, it will have two vector representations for Apple, one for the company and another for the fruit. For more details about the word2vec algorithm, please check here.\\n\\n2. Gensim Python Library Introduction\\n\\nGensim is an open source python library for natural language processing and it was developed and is maintained by the Czech natural language processing researcher Radim Řehůřek. Gensim library will enable us to develop word embeddings by training our own word2vec models on a custom corpus either with CBOW of skip-grams algorithms.\\n\\nAt first, we need to install the genism package. Gensim runs on Linux, Windows and Mac OS X, and should run on any other platform that supports Python 2.7+ and NumPy. Gensim depends on the following software:\\n\\nPython >= 2.7 (tested with versions 2.7, 3.5 and 3.6)\\n\\n>= 2.7 (tested with versions 2.7, 3.5 and 3.6) NumPy >= 1.11.3\\n\\n>= 1.11.3 SciPy >= 0.18.1\\n\\n>= 0.18.1 Six >= 1.5.0\\n\\n>= 1.5.0 smart_open >= 1.2.1\\n\\nThere are two ways for installation. We could run the following code in our terminal to install genism package.\\n\\npip install --upgrade gensim\\n\\nOr, alternatively for Conda environments:\\n\\nconda install -c conda-forge gensim\\n\\n3. Implementation of word Embedding with Gensim Word2Vec Model\\n\\nIn this tutorial, I will show how to generate word embedding with genism using a concrete example. The dataset I used for this tutorial is from Kaggle Dataset.\\n\\nThis vehicle dataset includes features such as make, model, year, engine, and other properties of the car. We will use these features to generate the word embeddings for each make model and then compare the similarities between different make model. The full python tutorial can be found here.\\n\\n>>> df = pd.read_csv(\\'data.csv\\')\\n\\n>>> df.head()\\n\\n3.1 Data Preprocessing:\\n\\nSince the purpose of this tutorial is to learn how to generate word embeddings using genism library, we will not do the EDA and feature selection for the word2vec model for the sake of simplicity.\\n\\nGenism word2vec requires that a format of ‘list of lists’ for training where every document is contained in a list and every list contains lists of tokens of that document. At first, we need to generate a format of ‘list of lists’ for training the make model word embedding. To be more specific, each make model is contained in a list and every list contains lists of features of that make model.\\n\\nTo achieve this, we need to do the following things :\\n\\na. Create a new column for Make Model\\n\\n>>> df[\\'Maker_Model\\']= df[\\'Make\\']+ \" \" + df[\\'Model\\']\\n\\nb. Generate a format of ‘ list of lists’ for each Make Model with the following features: Engine Fuel Type, Transmission Type, Driven_Wheels, Market Category, Vehicle Size, Vehicle Style.\\n\\n# Select features from original dataset to form a new dataframe\\n\\n>>> df1 = df[[\\'Engine Fuel Type\\',\\'Transmission Type\\',\\'Driven_Wheels\\',\\'Market Category\\',\\'Vehicle Size\\', \\'Vehicle Style\\', \\'Maker_Model\\']] # For each row, combine all the columns into one column\\n\\n>>> df2 = df1.apply(lambda x: \\',\\'.join(x.astype(str)), axis=1) # Store them in a pandas dataframe\\n\\n>>> df_clean = pd.DataFrame({\\'clean\\': df2}) # Create the list of list format of the custom corpus for gensim modeling\\n\\n>>> sent = [row.split(\\',\\') for row in df_clean[\\'clean\\']] # show the example of list of list format of the custom corpus for gensim modeling\\n\\n>>> sent[:2]\\n\\n[[\\'premium unleaded (required)\\',\\n\\n\\'MANUAL\\',\\n\\n\\'rear wheel drive\\',\\n\\n\\'Factory Tuner\\',\\n\\n\\'Luxury\\',\\n\\n\\'High-Performance\\',\\n\\n\\'Compact\\',\\n\\n\\'Coupe\\',\\n\\n\\'BMW 1 Series M\\'],\\n\\n[\\'premium unleaded (required)\\',\\n\\n\\'MANUAL\\',\\n\\n\\'rear wheel drive\\',\\n\\n\\'Luxury\\',\\n\\n\\'Performance\\',\\n\\n\\'Compact\\',\\n\\n\\'Convertible\\',\\n\\n\\'BMW 1 Series\\']]\\n\\n3.2. Genism word2vec Model Training\\n\\nWe can train the genism word2vec model with our own custom corpus as following:\\n\\n>>> model = Word2Vec(sent, min_count=1,size= 50,workers=3, window =3, sg = 1)\\n\\nLet’s try to understand the hyperparameters of this model.\\n\\nsize: The number of dimensions of the embeddings and the default is 100.\\n\\nwindow: The maximum distance between a target word and words around the target word. The default window is 5.\\n\\nmin_count: The minimum count of words to consider when training the model; words with occurrence less than this count will be ignored. The default for min_count is 5.\\n\\nworkers: The number of partitions during training and the default workers is 3.\\n\\nsg: The training algorithm, either CBOW(0) or skip gram(1). The default training algorithm is CBOW.\\n\\nAfter training the word2vec model, we can obtain the word embedding directly from the training model as following.\\n\\n>>> model[\\'Toyota Camry\\'] array([-0.11884457, 0.03035539, -0.0248678 , -0.06297892, -0.01703234,\\n\\n-0.03832747, -0.0825972 , -0.00268112, -0.09192555, -0.08458661,\\n\\n-0.07199778, 0.05235871, 0.21303181, 0.15767808, -0.1883737 ,\\n\\n0.01938575, -0.24431638, 0.04261152, 0.11865819, 0.09881561,\\n\\n-0.04580643, -0.08342388, -0.01355413, -0.07892415, -0.08467747,\\n\\n-0.0040625 , 0.16796461, 0.14578669, 0.04187112, -0.01436194,\\n\\n-0.25554284, 0.25494182, 0.05522631, 0.19295982, 0.14461821,\\n\\n0.14022525, -0.2065216 , -0.05020927, -0.08133671, 0.18031682,\\n\\n0.35042757, 0.0245426 , 0.15938364, -0.05617865, 0.00297452,\\n\\n0.15442047, -0.01286271, 0.13923576, 0.085941 , 0.18811756],\\n\\ndtype=float32)\\n\\n4. Compute Similarities\\n\\nNow we could even use Word2vec to compute the similarity between two Make Models in the vocabulary by invoking the model.similarity( ) and passing in the relevant words. For instance, model.similarity(‘Porsche 718 Cayman’, ‘Nissan Van’) This will give us the Euclidian similarity between Porsche 718 Cayman and Nissan Van.\\n\\n>>> model.similarity(\\'Porsche 718 Cayman\\', \\'Nissan Van\\')\\n\\n0.822824584626184 >>> model.similarity(\\'Porsche 718 Cayman\\', \\'Mercedes-Benz SLK-Class\\')\\n\\n0.961089779453727\\n\\nFrom the above examples, we can tell that Porsche 718 Cayman is more similar to Mercedes-Benz SLK-Class than Nissan Van. We also can use the built-in function model.most_similar() to get a set of the most similar make models for a given make model based on the Euclidean distance.\\n\\n>>> model1.most_similar(\\'Mercedes-Benz SLK-Class\\')[:5] [(\\'BMW M4\\', 0.9959905743598938),\\n\\n(\\'Maserati Coupe\\', 0.9949707984924316),\\n\\n(\\'Porsche Cayman\\', 0.9945154190063477),\\n\\n(\\'Mercedes-Benz SLS AMG GT\\', 0.9944609999656677),\\n\\n(\\'Maserati Spyder\\', 0.9942780137062073)]\\n\\nHowever, Euclidian similarity cannot work well for the high-dimensional word vectors. This is because Euclidian similarity will increase as the number of dimensions increases, even if the word embedding stands for different meanings. Alternatively, we can use cosine similarity to measure the similarity between two vectors. Mathematically, it measures the cosine of the angle between two vectors projected in a multi-dimensional space. The cosine similarity captures the angle of the word vectors and not the magnitude. Under cosine similarity, no similarity is expressed as a 90-degree angle while the total similarity of 1 is at a 0-degree angle.\\n\\nThe following function shows how can we generate the most similar make model based on cosine similarity.\\n\\ndef cosine_distance (model, word,target_list , num) :\\n\\ncosine_dict ={}\\n\\nword_list = []\\n\\na = model[word]\\n\\nfor item in target_list :\\n\\nif item != word :\\n\\nb = model [item]\\n\\ncos_sim = dot(a, b)/(norm(a)*norm(b))\\n\\ncosine_dict[item] = cos_sim\\n\\ndist_sort=sorted(cosine_dict.items(), key=lambda dist: dist[1],reverse = True) ## in Descedning order\\n\\nfor item in dist_sort:\\n\\nword_list.append((item[0], item[1]))\\n\\nreturn word_list[0:num] # only get the unique Maker_Model\\n\\n>>> Maker_Model = list(df.Maker_Model.unique()) # Show the most similar Mercedes-Benz SLK-Class by cosine distance\\n\\n>>> cosine_distance (model,\\'Mercedes-Benz SLK-Class\\',Maker_Model,5) [(\\'Mercedes-Benz CLK-Class\\', 0.99737006),\\n\\n(\\'Aston Martin DB9\\', 0.99593246),\\n\\n(\\'Maserati Spyder\\', 0.99571854),\\n\\n(\\'Ferrari 458 Italia\\', 0.9952333),\\n\\n(\\'Maserati GranTurismo Convertible\\', 0.994994)]\\n\\n5. T-SNE Visualizations\\n\\nIt’s hard to visualize the word embedding directly, for they usually have more than 3 dimensions. T-SNE is a useful tool to visualize high-dimensional data by dimension reduction while keeping relative pairwise distance between points. It can be said that T-SNE looking for a new data representation where the neighborhood relations are preserved. The following code shows how to plot the word embedding with T-SNE plot.\\n\\ndef display_closestwords_tsnescatterplot(model, word, size):\\n\\n\\n\\narr = np.empty((0,size), dtype=\\'f\\')\\n\\nword_labels = [word] close_words = model.similar_by_word(word) arr = np.append(arr, np.array([model[word]]), axis=0)\\n\\nfor wrd_score in close_words:\\n\\nwrd_vector = model[wrd_score[0]]\\n\\nword_labels.append(wrd_score[0])\\n\\narr = np.append(arr, np.array([wrd_vector]), axis=0)\\n\\n\\n\\ntsne = TSNE(n_components=2, random_state=0)\\n\\nnp.set_printoptions(suppress=True)\\n\\nY = tsne.fit_transform(arr) x_coords = Y[:, 0]\\n\\ny_coords = Y[:, 1]\\n\\nplt.scatter(x_coords, y_coords) for label, x, y in zip(word_labels, x_coords, y_coords):\\n\\nplt.annotate(label, xy=(x, y), xytext=(0, 0), textcoords=\\'offset points\\')\\n\\nplt.xlim(x_coords.min()+0.00005, x_coords.max()+0.00005)\\n\\nplt.ylim(y_coords.min()+0.00005, y_coords.max()+0.00005)\\n\\nplt.show() >>> display_closestwords_tsnescatterplot(model, \\'Porsche 718 Cayman\\', 50)\\n\\nThis T-SNE plot shows the top 10 similar vehicles to the Porsche 718 Cayman in two-dimensional space.\\n\\nAbout Me\\n\\nI am a master student in Data Science at the University of San Francisco. I am passionate about using Machine Learning to solve business challenges. You can also find me through Linkedin.', metadata={'Title': 'A Beginner’s Guide to Word Embedding with Gensim Word2Vec Model'}), Document(page_content='In my last article, I introduced the concept of Graph Neural Network (GNN) and some recent advancements of it. Since this topic is getting seriously hyped up, I decided to make this tutorial on how to easily implement your Graph Neural Network in your project. You will learn how to construct your own GNN with PyTorch Geometric, and how to use GNN to solve a real-world problem (Recsys Challenge 2015).\\n\\nIn this blog post, we will be using PyTorch and PyTorch Geometric (PyG), a Graph Neural Network framework built on top of PyTorch that runs blazingly fast. It is several times faster than the most well-known GNN framework, DGL.\\n\\nAside from its remarkable speed, PyG comes with a collection of well-implemented GNN models illustrated in various papers. Therefore, it would be very handy to reproduce the experiments with PyG.', metadata={'Title': 'Hands-on Graph Neural Networks with PyTorch & PyTorch Geometric'}), Document(page_content='Introduction\\n\\nThanks to its strict implementation of the grammar of graphics, ggplot2 provides an extremely intuitive and consistent way of plotting your data. Not only does ggplot2’s approach to plotting ensure that each plot comprises certain basic elements but it also simplifies the readability of your code to a great extent.\\n\\nHowever, if you are a frequent user of Python, then implementing the grammar of graphics can be extremely challenging due to the lack of standardized syntax in popular plotting libraries, such as matplotlib or seaborn. Should you still want to make use of the grammar of graphics, then the Python package plotnine provides an alternative for you.\\n\\nThe Grammar of Graphics\\n\\nIn case you should be unfamiliar with the grammar of graphics, here is a quick overview:\\n\\nMain Components of the Grammar of Graphics\\n\\nAs you can see, there are several components that make up the grammar of graphics, starting with your data. After identifying the data you would like to visualize, you have to specify the variables you are interested in. For instance, you might want to display one variable on the x-axis and another on the y-axis. Third, you have to define what type of geometric object (geom for short) you would like to utilize. This could be anything from a bar plot to a scatter plot or any of the other existing plot types.\\n\\nThese first three components are compulsory. Without data, there is nothing to plot. Without axis definitions, there is nothing to plot either. And finally, without defining a geometric object, you will only see an empty coordinate system. The remaining components making up the grammar of graphics are optional and can be implemented to improve visualizations. Facets refer to specifications of subplots, that is, plotting several variables within your data next to one another in separate plots. Statistical transformations mainly refer to the inclusion of summary statistics in your plot, such as the median or percentiles. Coordinates describe the different coordinate systems available to you. The most used and default coordinate system is the Cartesian coordinate system. Depending on the structure of the data you would like to plot, lesser used coordinate systems, such as the Polar coordinate system, might provide a better way of visualizing your data. Finally, themes provide a variety of options to design all non-data elements of your plot, such as the legend, background, or annotations.\\n\\nWhile there are many ways of visualizing the grammar of graphics, I particularly like the one I created above because it implies the additivity of these layers as well as the fact that they are building upon one another. If you have ever used ggplot2, you are familiar with the ‘+’ in its syntax that symbolizes the same idea described above.\\n\\nplotnine\\n\\nplotnine is a Python package allowing you to use ggplot2-like code that is implementing the grammar of graphics. By doing so, just as in ggplot2, you are able to specifically map data to visual objects that make up the visualization. This enables you to improve both the readability as well as the structure of your code. While you could set matplotlib’s style to ggplot, you cannot implement the grammar of graphics in matplotlib the same way you can in ggplot2.\\n\\nInstallation\\n\\nBefore getting started, you have to install plotnine. As always, there are two main options for doing so: pip and conda.\\n\\nPlotting\\n\\nHaving installed plotnine, you can get started plotting using the grammar of graphics. Let us begin by building a very simple plot only using the three requisite components: data, aesthetics, and geometric objects.\\n\\nBuilding a plot using the grammar of graphics\\n\\nAs you can see, the syntax is very similar to ggplot2. First, we specify the data source. In our case, the data we are using is the classic mpg data set. Next, we define that the variable ‘class’ is going to be displayed on the x-axis. Lastly, we say that we would like to use a bar plot with bars of size 20 to visualize our data. Let us look at the complete code and the resulting plot:\\n\\nThe code above will yield the following output:\\n\\nWhile this is a good start, it is not very nice to look at yet. Let us use other components of the grammar of graphics to beautify our plot.\\n\\nFor instance, we could flip the axes using coord_flip() and customize the plot and axes titles with labs() to improve our plot. Using the code chunk above, our plot would look like this:\\n\\nPlotting Multidimensional Data\\n\\nBesides basic plots, you can do almost everything you could otherwise do in ggplot2, such as plotting multidimensional data. If you would like to visualize the relationships between three variables you could add aesthetics to an otherwise two-dimensional plot:\\n\\nAdding color to the aesthetics will prompt plotnine to display a two-dimensional plot using displ (engine displacement, in liters) on its x- and hwy (highway miles per gallon) on its y-axis and color the data according to the variable class. We have also switched the geometric object to geom_point(), which will give us a scatter instead of a bar plot. Let us take a look at what that would look like:\\n\\nConclusion\\n\\nAs you can see, plotnine provides you with the ability to utilize the grammar of graphics within Python. This increases the readability of your code and allows you to specifically map parts of your data to visual objects. If you are already familiar with ggplot2, then you won’t have to learn anything new to master plotnine. If not, here is a link to the ggplot2 website on which you can find out plenty more about the grammar of graphics and all types of geometric objects available to you.', metadata={'Title': 'How to Use ggplot2 in Python'})]\n"
          ]
        }
      ],
      "source": [
        "print(\"Number of docs loaded: \", len(docs))\n",
        "print(\"First three docs\\n\", docs[:3])"
      ]
    },
    {
      "cell_type": "markdown",
      "metadata": {
        "id": "gF-eK8KgbE79"
      },
      "source": [
        "# Document Splitting\n",
        "Divide the dataset into manageable chunks using the TokenTextSplitter from LangChain. We are prioritizng words (tokens), instead of characters, since words carry more meaningful linguistic information comparing to characters."
      ]
    },
    {
      "cell_type": "markdown",
      "metadata": {
        "id": "bBEUNP7Lbsif"
      },
      "source": [
        "But which chunk size could be optimal? Let's explore our article data more deeply."
      ]
    },
    {
      "cell_type": "markdown",
      "metadata": {
        "id": "Z7_hiOLub_Jo"
      },
      "source": [
        "Analyze the distribution of word counts in articles to determine the approximate chunk size for processing. Calculate the mean and median."
      ]
    },
    {
      "cell_type": "code",
      "execution_count": 21,
      "metadata": {
        "colab": {
          "base_uri": "https://localhost:8080/"
        },
        "id": "W4TRCcnobJ0y",
        "outputId": "cfd9b30f-a9d2-4396-fc6a-973e9671c5c0"
      },
      "outputs": [
        {
          "name": "stdout",
          "output_type": "stream",
          "text": [
            "mean word count 901.5384615384615\n",
            "median word count 516.0\n"
          ]
        }
      ],
      "source": [
        "df['word_count'] = df['Text'].apply(lambda x: len(x.split()))\n",
        "\n",
        "mean_word_count = df['word_count'].mean()\n",
        "median_word_count = df['word_count'].median()\n",
        "print('mean word count', mean_word_count)\n",
        "print('median word count', median_word_count)"
      ]
    },
    {
      "cell_type": "markdown",
      "metadata": {
        "id": "raTeKqYCcGbb"
      },
      "source": [
        "Utilize matplotlib to plot the distribution of word counts. Visualization helps to better understand the data and helps to come up with chunking strategy."
      ]
    },
    {
      "cell_type": "code",
      "execution_count": 22,
      "metadata": {
        "colab": {
          "base_uri": "https://localhost:8080/",
          "height": 564
        },
        "id": "bCOdOPeVcExf",
        "outputId": "b2ee5329-d5cd-4f1a-eab1-ae70ded36dab"
      },
      "outputs": [
        {
          "data": {
            "image/png": "[encoded data removed]",
            "text/plain": [
              "<Figure size 1000x600 with 1 Axes>"
            ]
          },
          "metadata": {},
          "output_type": "display_data"
        }
      ],
      "source": [
        "plt.figure(figsize=(10, 6))\n",
        "plt.scatter(df.index, df['word_count'], alpha=0.3, color='#28a67c', label=\"article word count\")\n",
        "plt.plot(df.index, np.ones(len(docs)) * mean_word_count, color=\"red\", label=\"mean\")\n",
        "plt.plot(df.index, np.ones(len(docs)) * median_word_count, color=\"blue\", label=\"median\")\n",
        "plt.title('Scatter Plot of Article Word Counts')\n",
        "plt.xlabel('Article Index')\n",
        "plt.ylabel('Word Count')\n",
        "plt.legend()\n",
        "plt.show()"
      ]
    },
    {
      "cell_type": "code",
      "execution_count": 23,
      "metadata": {
        "colab": {
          "base_uri": "https://localhost:8080/"
        },
        "id": "4HXgqdM7ckKv",
        "outputId": "eed74532-d898-4368-d061-12e01e81be60"
      },
      "outputs": [
        {
          "name": "stdout",
          "output_type": "stream",
          "text": [
            "chunk size 225 \n",
            "chunk overlap 22\n",
            "docs length 1391 \n",
            "splitted docs length 9490\n"
          ]
        }
      ],
      "source": [
        "chunk_size = int(mean_word_count / 4)\n",
        "overlap_percent = 0.1\n",
        "chunk_overlap = int(chunk_size * overlap_percent)\n",
        "\n",
        "text_splitter = TokenTextSplitter(\n",
        "\tchunk_size=chunk_size, chunk_overlap=chunk_overlap\n",
        ")\n",
        "\n",
        "print('chunk size', chunk_size, '\\nchunk overlap', chunk_overlap)\n",
        "\n",
        "docs_splitted = text_splitter.split_documents(docs)\n",
        "print('docs length', len(docs),'\\nsplitted docs length', len(docs_splitted))"
      ]
    },
    {
      "cell_type": "code",
      "execution_count": 24,
      "metadata": {
        "colab": {
          "base_uri": "https://localhost:8080/"
        },
        "id": "zSG72PlCdfpd",
        "outputId": "1d6bf47e-da60-497e-87d4-4f2c8c9feb40"
      },
      "outputs": [
        {
          "data": {
            "text/plain": [
              "[Document(page_content='1. Introduction of Word2vec\\n\\nWord2vec is one of the most popular technique to learn word embeddings using a two-layer neural network. Its input is a text corpus and its output is a set of vectors. Word embedding via word2vec can make natural language computer-readable, then further implementation of mathematical operations on words can be used to detect their similarities. A well-trained set of word vectors will place similar words close to each other in that space. For instance, the words women, men, and human might cluster in one corner, while yellow, red and blue cluster together in another.\\n\\nThere are two main training algorithms for word2vec, one is the continuous bag of words(CBOW), another is called skip-gram. The major difference between these two methods is that CBOW is using context to predict a target word while skip-gram is using a word to predict a target context. Generally, the skip-gram method can have a better performance compared with CBOW method, for it can capture two semantics for a single word. For instance, it will', metadata={'Title': 'A Beginner’s Guide to Word Embedding with Gensim Word2Vec Model'}),\n",
              " Document(page_content=' compared with CBOW method, for it can capture two semantics for a single word. For instance, it will have two vector representations for Apple, one for the company and another for the fruit. For more details about the word2vec algorithm, please check here.\\n\\n2. Gensim Python Library Introduction\\n\\nGensim is an open source python library for natural language processing and it was developed and is maintained by the Czech natural language processing researcher Radim Řehůřek. Gensim library will enable us to develop word embeddings by training our own word2vec models on a custom corpus either with CBOW of skip-grams algorithms.\\n\\nAt first, we need to install the genism package. Gensim runs on Linux, Windows and Mac OS X, and should run on any other platform that supports Python 2.7+ and NumPy. Gensim depends on the following software:\\n\\nPython >= 2.7 (tested with versions 2.7, 3.5 and 3.6)\\n\\n>= 2.7 (tested', metadata={'Title': 'A Beginner’s Guide to Word Embedding with Gensim Word2Vec Model'})]"
            ]
          },
          "execution_count": 24,
          "metadata": {},
          "output_type": "execute_result"
        }
      ],
      "source": [
        "docs_splitted[:2]"
      ]
    },
    {
      "cell_type": "markdown",
      "metadata": {
        "id": "wzBtOmf1fBjA"
      },
      "source": [
        "# Data Embedding and Storing\n",
        "Set up the embedding process using OpenAI's API. This step involves configuring the embedding parameters and ensuring the API key is correctly set up for accessing the service."
      ]
    },
    {
      "cell_type": "code",
      "execution_count": 25,
      "metadata": {
        "id": "Wiu4QhsNg_aT"
      },
      "outputs": [],
      "source": [
        "embedding = OpenAIEmbeddings(openai_api_key=OPENAI_API_KEY)"
      ]
    },
    {
      "cell_type": "markdown",
      "metadata": {
        "id": "LBmh7W0miFyR"
      },
      "source": [
        "Generate embeddings for a sample text to demonstrate the process and inspect the output. This helps verify that the embeddings are being created correctly and are suitable for use in vector-based retrieval."
      ]
    },
    {
      "cell_type": "code",
      "execution_count": 26,
      "metadata": {
        "colab": {
          "base_uri": "https://localhost:8080/"
        },
        "id": "ANkpRuITiInU",
        "outputId": "75c91e3c-8970-498e-d32d-53123b167968"
      },
      "outputs": [
        {
          "data": {
            "text/plain": [
              "(1536,)"
            ]
          },
          "execution_count": 26,
          "metadata": {},
          "output_type": "execute_result"
        }
      ],
      "source": [
        "vector = embedding.embed_query(\"What a fantastic project!\")\n",
        "np.array(vector).shape"
      ]
    },
    {
      "cell_type": "markdown",
      "metadata": {
        "id": "VzdPXHK6lI_t"
      },
      "source": [
        "Remove database files if you have currently\n",
        "\n",
        "```\n",
        "!rm -rf ./docs/chroma\n",
        "```\n",
        "\n"
      ]
    },
    {
      "cell_type": "markdown",
      "metadata": {
        "id": "_-RUjodnhK0t"
      },
      "source": [
        "Initialize the Chroma vector database and configure the directory structure for storing embeddings. This ensures that the storage solution is ready for receiving and indexing the generated embeddings."
      ]
    },
    {
      "cell_type": "code",
      "execution_count": 27,
      "metadata": {
        "id": "5-cZXB96gR6j"
      },
      "outputs": [],
      "source": [
        "vectordb = Chroma.from_documents(\n",
        "    documents=docs_splitted,\n",
        "    embedding=embedding,\n",
        "    persist_directory=\"docs/chroma/\"\n",
        ")"
      ]
    },
    {
      "cell_type": "markdown",
      "metadata": {
        "id": "9JX-H49ghafy"
      },
      "source": [
        "Execute a sample document retrieval by searching within the embeddings using Euclidean distance. Set 'k' to determine the number of closest vectors returned."
      ]
    },
    {
      "cell_type": "code",
      "execution_count": 29,
      "metadata": {
        "colab": {
          "base_uri": "https://localhost:8080/"
        },
        "id": "TpeOXcVqgcZ_",
        "outputId": "f30a7b5c-4d57-4d59-a56f-cfe37868683c"
      },
      "outputs": [
        {
          "data": {
            "text/plain": [
              "[Document(page_content='gorithm works?\\n\\nIn the classification setting, the K-nearest neighbor algorithm essentially boils down to forming a majority vote between the K most similar instances to a given “unseen” observation. Similarity is defined according to a distance metric between two data points. A popular one is the Euclidean distance method\\n\\nOther methods are Manhattan, Minkowski, and Hamming distance methods. For categorical variables, the hamming distance must be used.\\n\\nLet’s take a small example. Age vs loan.\\n\\nWe need to predict Andrew default status (Yes or No).\\n\\nCalculate Euclidean distance for all the data points.', metadata={'Title': 'A Simple Introduction to K-Nearest Neighbors Algorithm'}),\n",
              " Document(page_content=' Cosine similarity of the corresponding CLS sentence-level embeddings.\\n\\nEuclidean distance\\n\\nCosine similarity\\n\\nThe Euclidean distance has a range of [0, ∞), therefore, to match the other scores, let’s use the function f(x)=(1/1.2)^x to get a (0,1] score. This function results in scores relatively close to the BLEU ones. The cosine similarity has the right range, however, it is not comparable with the BLEU scores. To evaluate the results we have to investigate the scores of the sentences relative to each other, not to other scores.\\n\\nSimilarity scores\\n\\nHere is a table of the scores using BLEU. As we can see, BLEU identifies the second sentence as close to the first one (only 1 word changed) but it cannot handle the synonyms of the fourth sentence. Also, the score of a completely different sentence is relatively high.\\n\\nBLEU with Smoothing Function [3] resolve this later issue.\\n', metadata={'Title': 'BLEU-BERT-y: Comparing sentence scores'}),\n",
              " Document(page_content='Introducing k-Nearest Neighbors\\n\\nThe k-nearest neighbors algorithm is based on a very simple premise: That things that are close together have a lot in common. This premise can be seen all over the world:\\n\\nThe closest neighbors of college students are typically other college students.\\n\\nWe tend to have more in common with our romantic partners, with whom we share a home, than with the people in the next town over.\\n\\nIn grocery stores, each type of produce is stored in a group rather than distributed around the entire store.\\n\\nThe k-nearest neighbors modelling approach uses this premise to assume that we can take knowledge we have of one point, and draw conclusions about the neighboring points. Since similar things are commonly clustered together we can use that proximity to make assumptions about the data points that we don’t know. In a grocery store, the item next to an apple is typically another apple. More specifically, the item next to a gala apple is typically another gala apple. Similar for people’s political orientations; as we continue to gather', metadata={'Title': 'Introducing k-Nearest Neighbors'})]"
            ]
          },
          "execution_count": 29,
          "metadata": {},
          "output_type": "execute_result"
        }
      ],
      "source": [
        "question = \"What is euclidean similarity?\"\n",
        "question_vector = embedding.embed_query(question)\n",
        "searched_docs = vectordb.similarity_search_by_vector(question_vector, k=3)\n",
        "searched_docs"
      ]
    },
    {
      "cell_type": "markdown",
      "metadata": {
        "id": "9Sg_71LVjNv0"
      },
      "source": [
        "Manually calculate similarity scores between searched documents to understand the logic behind distance calculations and relevance scoring in the embedding space.\n"
      ]
    },
    {
      "cell_type": "code",
      "execution_count": 30,
      "metadata": {
        "id": "Rmthg1WXjW5m"
      },
      "outputs": [],
      "source": [
        "first_searched_doc_vector = embedding.embed_query(searched_docs[0].page_content)\n",
        "second_searched_doc_vector = embedding.embed_query(searched_docs[1].page_content)"
      ]
    },
    {
      "cell_type": "code",
      "execution_count": 31,
      "metadata": {
        "colab": {
          "base_uri": "https://localhost:8080/"
        },
        "id": "btooH570jXdE",
        "outputId": "95b9c881-3df0-46af-80bf-f0fd3f58bc08"
      },
      "outputs": [
        {
          "name": "stdout",
          "output_type": "stream",
          "text": [
            "question and first doc score 0.8343977326531844\n",
            "question and second doc score 0.8188263554970876\n"
          ]
        }
      ],
      "source": [
        "print('question and first doc score', np.dot(question_vector, first_searched_doc_vector))\n",
        "print('question and second doc score', np.dot(question_vector, second_searched_doc_vector))"
      ]
    },
    {
      "cell_type": "markdown",
      "metadata": {
        "id": "HIxKgrRXlmEQ"
      },
      "source": [
        "# Retrieval\n",
        "Set up the retrieval system to extract relevant information based on specific queries."
      ]
    },
    {
      "cell_type": "markdown",
      "metadata": {
        "id": "6qbUvdLQvlH0"
      },
      "source": [
        "Initialize document metadata and descriptions to provide additional context to the large language model."
      ]
    },
    {
      "cell_type": "code",
      "execution_count": 32,
      "metadata": {
        "id": "7ludadVZl7o9"
      },
      "outputs": [],
      "source": [
        "metadata_field_info = [\n",
        "\tAttributeInfo(\n",
        "\t\tname=\"title\",\n",
        "\t\tdescription=\"The title of the article\",\n",
        "\t\ttype=\"string\",\n",
        "\t),\n",
        "\tAttributeInfo(\n",
        "\t\tname=\"text\",\n",
        "\t\tdescription=\"The text of the article\",\n",
        "\t\ttype=\"string\"\n",
        "\t)\n",
        "]\n",
        "\n",
        "document_content_description = \"Articles about Data Science\""
      ]
    },
    {
      "cell_type": "markdown",
      "metadata": {
        "id": "9zYezwAAvu_J"
      },
      "source": [
        "Configure and use GPT-3.5 Turbo for processing queries."
      ]
    },
    {
      "cell_type": "code",
      "execution_count": 33,
      "metadata": {
        "id": "1hnvpPxiDcXM"
      },
      "outputs": [],
      "source": [
        "llm = OpenAI(model=\"gpt-3.5-turbo-instruct\", temperature=0, openai_api_key=OPENAI_API_KEY)"
      ]
    },
    {
      "cell_type": "markdown",
      "metadata": {
        "id": "198Jj7JhDc2m"
      },
      "source": [
        "Set up retriever using SelfQueryRetriever"
      ]
    },
    {
      "cell_type": "code",
      "execution_count": 34,
      "metadata": {
        "id": "5fFfZ4bQmAGU"
      },
      "outputs": [],
      "source": [
        "retriever = SelfQueryRetriever.from_llm(\n",
        "\tllm,\n",
        "\tvectordb,\n",
        "\tdocument_content_description,\n",
        "\tmetadata_field_info,\n",
        "\tverbose=True\n",
        ")"
      ]
    },
    {
      "cell_type": "markdown",
      "metadata": {
        "id": "JN8vnG9tDjWI"
      },
      "source": [
        "Create useful function for finding right documents."
      ]
    },
    {
      "cell_type": "code",
      "execution_count": 35,
      "metadata": {
        "id": "pO1WmJSU0ewU"
      },
      "outputs": [],
      "source": [
        "def search_docs(query):\n",
        "  retrieved_docs = retriever.get_relevant_documents(query)\n",
        "\n",
        "  print(\"Query: \" + query + \"\\n\")\n",
        "  for i in range(len(retrieved_docs)):\n",
        "    current_doc = retrieved_docs[i]\n",
        "\n",
        "    print(f\"[Article {i + 1}]\")\n",
        "    print(\"Title:\\n\" + current_doc.metadata['Title'] + \"\\n\")\n",
        "    print(\"Text:\\n\" + current_doc.page_content[1:400] + \"...\" + \"\\n\\n\")"
      ]
    },
    {
      "cell_type": "code",
      "execution_count": 36,
      "metadata": {
        "colab": {
          "base_uri": "https://localhost:8080/"
        },
        "id": "dv2IApazmE7M",
        "outputId": "d0c68fba-0806-4ac9-efda-8c052bdf0a03"
      },
      "outputs": [
        {
          "name": "stdout",
          "output_type": "stream",
          "text": [
            "Query: What is gradient descent?\n",
            "\n",
            "[Article 1]\n",
            "Title:\n",
            "A deeper look at descent algorithms\n",
            "\n",
            "Text:\n",
            "ewton’s method provides a quadratic approximation to a function and optimizes that at every step. The biggest disadvantage is that it involves inverting a matrix for the multi-variable case(which can be expensive when dealing with a vector with a lot of features)\n",
            "\n",
            "Gradient Descent\n",
            "\n",
            "Gradient descent is the most common optimization algorithm. It is very quick in that the most expensive thing to do ...\n",
            "\n",
            "\n",
            "[Article 2]\n",
            "Title:\n",
            "A deeper look at descent algorithms\n",
            "\n",
            "Text:\n",
            "�³⁰→ℝ. With 10 steps, steepest descent generated f(x) = -62434.18 . Within 1000 steps, gradient descent generated f(x) = -61596.84 . In just 10 steps, steepest descent decrease to an f-value lower than that of gradient descent in a 1000 steps!\n",
            "\n",
            "Keep in mind that the above works really well only because we are dealing with quadratic functions. In general, it does get difficult to find the value fo...\n",
            "\n",
            "\n",
            "[Article 3]\n",
            "Title:\n",
            "A deeper look at descent algorithms\n",
            "\n",
            "Text:\n",
            " = x_n1\n",
            "\n",
            "x_n1 = x_n - inverse(hessian_matrix) (gradient(x_n))\n",
            "\n",
            "where gradient(x_n) is the gradient vector at x_n and hessian_matrix is an n×n hessian symmetric matrix whose entries consist of second derivatives at x_n .\n",
            "\n",
            "As we all know, inverting a matrix is expensive ( O(n³) ) and thus this method is not commonly used.\n",
            "\n",
            "Gradient Descent\n",
            "\n",
            "This is by far the most popular method of optimization use...\n",
            "\n",
            "\n",
            "[Article 4]\n",
            "Title:\n",
            "Guide to choosing Hyperparameters for your Neural Networks\n",
            "\n",
            "Text:\n",
            "more about it later and will see how choosing the optimal parameters helps in finding the right balance to get the right predictions which minimize total error.\n",
            "\n",
            "Gradient Descent Algorithms\n",
            "\n",
            "Gradient Descent is one of the most popular and used algorithms for weights optimization of the models. Gradient Descent helps in minimizing the cost function by updating the parameters which are weights in t...\n",
            "\n",
            "\n"
          ]
        }
      ],
      "source": [
        "search_docs(\"What is gradient descent?\")"
      ]
    },
    {
      "cell_type": "markdown",
      "metadata": {
        "id": "VbsCO7WexlUs"
      },
      "source": [
        "# Answering to queries\n",
        "Create question answering retrieval to get processed answer from the llm with the context of our data."
      ]
    },
    {
      "cell_type": "code",
      "execution_count": 37,
      "metadata": {
        "id": "QfQjJNsNxrMb"
      },
      "outputs": [],
      "source": [
        "chain = RetrievalQA.from_chain_type(llm, retriever=vectordb.as_retriever())"
      ]
    },
    {
      "cell_type": "markdown",
      "metadata": {
        "id": "19SzD9i9FUOo"
      },
      "source": [
        "Create practical function for question answering system."
      ]
    },
    {
      "cell_type": "code",
      "execution_count": 38,
      "metadata": {
        "id": "BOINm5_ax8rG"
      },
      "outputs": [],
      "source": [
        "def get_answer(query):\n",
        "  print(\"Query:\\n\" + query + \"\\n\")\n",
        "  print(\"Answer:\\n\" + chain({\"query\": query})['result'][1:] + \"\\n\")"
      ]
    },
    {
      "cell_type": "code",
      "execution_count": 39,
      "metadata": {
        "colab": {
          "base_uri": "https://localhost:8080/"
        },
        "id": "79D2ECT9yG1x",
        "outputId": "fb03dc08-36b9-4ead-eecd-255945ac701f"
      },
      "outputs": [
        {
          "name": "stdout",
          "output_type": "stream",
          "text": [
            "Query:\n",
            "What is gradient descent?\n",
            "\n"
          ]
        },
        {
          "name": "stderr",
          "output_type": "stream",
          "text": [
            "/usr/local/lib/python3.10/dist-packages/langchain_core/_api/deprecation.py:119: LangChainDeprecationWarning: The method `Chain.__call__` was deprecated in langchain 0.1.0 and will be removed in 0.2.0. Use invoke instead.\n",
            "  warn_deprecated(\n"
          ]
        },
        {
          "name": "stdout",
          "output_type": "stream",
          "text": [
            "Answer:\n",
            "Gradient descent is an optimization algorithm commonly used in machine learning and neural networks. It involves taking small steps in the direction of the steepest descent of a cost function in order to find the minimum value. This process is repeated iteratively until the algorithm converges on the optimal solution.\n",
            "\n"
          ]
        }
      ],
      "source": [
        "get_answer(\"What is gradient descent?\")"
      ]
    },
    {
      "cell_type": "code",
      "execution_count": 39,
      "metadata": {
        "id": "qLRWuuMh7RRk"
      },
      "outputs": [],
      "source": []
    }
  ],
  "metadata": {
    "colab": {
      "provenance": []
    },
    "kernelspec": {
      "display_name": "Python 3",
      "name": "python3"
    },
    "language_info": {
      "name": "python"
    }
  },
  "nbformat": 4,
  "nbformat_minor": 0
}
